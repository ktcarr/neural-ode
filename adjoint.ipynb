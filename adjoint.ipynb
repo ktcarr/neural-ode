{
 "cells": [
  {
   "cell_type": "code",
   "execution_count": 1,
   "metadata": {},
   "outputs": [],
   "source": [
    "import torch\n",
    "import torchvision\n",
    "import torch.nn as nn\n",
    "import torch.nn.functional as F\n",
    "import numpy as np\n",
    "import matplotlib.pyplot as plt\n",
    "import seaborn as sns\n",
    "sns.set()"
   ]
  },
  {
   "cell_type": "markdown",
   "metadata": {},
   "source": [
    "#### Functions representing dz/dt"
   ]
  },
  {
   "cell_type": "code",
   "execution_count": 7,
   "metadata": {},
   "outputs": [],
   "source": [
    "def ode_torch(t,y):\n",
    "    '''Example differential equation\n",
    "    Args: y is initial value\n",
    "          t is time'''\n",
    "    t = torch.tensor(t)\n",
    "    m = y - 1/2 * torch.exp(t/2) * torch.sin(5*t) + 5*torch.exp(t/2)*torch.cos(5*t)\n",
    "    return m\n",
    "\n",
    "class mini_net(nn.Module):\n",
    "    \n",
    "    def __init__(self, W=torch.randn(1, requires_grad=True)):\n",
    "        super(mini_net, self).__init__()\n",
    "        self.W = W\n",
    "        \n",
    "    def f(self, t, y):\n",
    "        # This is dz/dt (change in hidden state with respect to time)\n",
    "        return(sig(self.W * y))\n",
    "    \n",
    "def sig(x):\n",
    "    return(torch.exp(x) / (torch.exp(x) + 1))"
   ]
  },
  {
   "cell_type": "code",
   "execution_count": 17,
   "metadata": {},
   "outputs": [],
   "source": [
    "def rk_adjoint(fun, t_span, y0, h):\n",
    "    '''Runge-Kutta 4th order method\n",
    "        Args: - fun is derivative\n",
    "              - t_span is tuple of start and end time\n",
    "              - y0 is initial condition\n",
    "              - h is step size (fixed in this case)'''\n",
    "    w = torch.tensor([1/6, 1/3, 1/3, 1/6]) # weights\n",
    "    w = w.expand(*y0.shape,4).permute(2,0,1)\n",
    "    n_steps = int((t_span[1]-t_span[0])/h)\n",
    "    y = y0 # set state to initial state\n",
    "    t = t_span[0]\n",
    "    all_y = [y0] # set state to initial state\n",
    "    all_t = [t_span[0]]\n",
    "    for _ in range(n_steps):\n",
    "        k1 = h * fun(t     , y)\n",
    "        k2 = h * fun(t+.5*h, y+.5*k1)\n",
    "        k3 = h * fun(t+.5*h, y+.5*k2)\n",
    "        k4 = h * fun(t+   h, y+   k3)\n",
    "        t = t + h\n",
    "        y = y + torch.sum(w*torch.stack([k1,k2,k3,k4],dim=0), dim=0)\n",
    "        all_y.append(y)\n",
    "        all_t.append(t)\n",
    "    return torch.stack(all_y,dim=0).detach(), torch.tensor(all_t)\n",
    "\n",
    "class aug_dynamics():\n",
    "    '''Class representing augmented dynamics of the system. Forward dynamics are governed by .\n",
    "        To update parameters, we require derivative of loss with respect to the hidden state, \n",
    "        dL/dz (i.e., the adjoint). To compute the adjoint and the derivative of the loss with \n",
    "        respect to the parameters, we use will use the ODE solver with the augmented dynamics.'''\n",
    "    \n",
    "    def __init__(self, f):\n",
    "        \n",
    "        self.f = f # function representing dynamics of hidden state (i.e. dz/dt)\n",
    "        \n",
    "        # Keep track of state\n",
    "#         self.a = None # adjoint\n",
    "#         self.z = None # \n",
    "        self.dL_dtheta = 0 # accumulate gradient of loss with respect to parameters\n",
    "        \n",
    "    # Def function for backward pass\n",
    "    def vjp(v, fun, t, z):\n",
    "        # Compute vector-jacobian product (vjp) of a(t) and df/dz\n",
    "        # fun is function of z (hidden state) and t (time)\n",
    "        out = fun(t, z) # forward pass\n",
    "        out.backward(a) # compute vjp\n",
    "        return(z.grad)\n",
    "\n",
    "#     def forward(self, t, aug_state):\n",
    "#         '''Forward pass of the dynamics. That is, evaluate the derivatives.\n",
    "#             Args: t is time\n",
    "#                   aug_state is tensor concatenation [a,z], i.e. adjoint state and hidden state\n",
    "#                   fun is function used to evaluate ode_vjp\n",
    "#             Returns: derivatives of adjoint and hidden state (respectively) with respect to time\n",
    "#                         i.e. torch.concat([da/dt, dz/dt])'''\n",
    "#         len_z = int(len(aug_state)/2)\n",
    "#         a = aug_state[:1,:].detach()\n",
    "#         z = aug_state[1:,:].detach().clone().requires_grad_(True)\n",
    "        \n",
    "#         # Compute derivative of adjoint with respect to time\n",
    "#         dz_dt = self.f(t, z) # evaluate function \n",
    "#         dz_dt.backward(a) # get vector-jacobian product (vjp)\n",
    "        \n",
    "#         return torch.cat([z.grad, dz_dt.detach()], dim=0)\n",
    "    \n",
    "    def forward(self, t, aug_state):\n",
    "        '''Forward pass of the dynamics. That is, evaluate the derivatives.\n",
    "            Args: t is time\n",
    "                  aug_state is tensor concatenation [a,z], i.e. adjoint state and hidden state\n",
    "                  fun is function used to evaluate ode_vjp\n",
    "            Returns: derivatives of adjoint and hidden state (respectively) with respect to time\n",
    "                        i.e. torch.concat([da/dt, dz/dt])'''\n",
    "        len_z = int(len(aug_state)/2)\n",
    "        a = aug_state[:1,:].detach()                                  # adjoint state\n",
    "        z = aug_state[1:2,:].detach().clone().requires_grad_(True)    # hidden state\n",
    "        theta = aug_state[2:,:].detach().clone().requires_grad_(True) # parameters\n",
    "        \n",
    "        # Compute derivative of adjoint with respect to time\n",
    "        dz_dt = self.f(t, z, theta) # evaluate function \n",
    "        dz_dt.backward(a) # get vector-jacobian product (vjp)\n",
    "        \n",
    "        self.dL_dtheta += theta.grad # accumulate gradient of loss with respect to parameters\n",
    "        z.grad\n",
    "        \n",
    "        \n",
    "        \n",
    "        return torch.cat([z.grad, dz_dt.detach()], dim=0)"
   ]
  },
  {
   "cell_type": "code",
   "execution_count": 60,
   "metadata": {},
   "outputs": [],
   "source": [
    "z = torch.randn(3,1, requires_grad=True)\n",
    "W = torch.randn(4,3, requires_grad=True)\n",
    "\n",
    "a = torch.randn(4,1)\n",
    "yhat = W@z\n",
    "\n",
    "yhat.backward(a)"
   ]
  },
  {
   "cell_type": "code",
   "execution_count": 61,
   "metadata": {},
   "outputs": [
    {
     "name": "stdout",
     "output_type": "stream",
     "text": [
      "tensor([[ 0.2984],\n",
      "        [-1.5119],\n",
      "        [-1.6241]])\n",
      "tensor([[-0.9487, -0.9782,  0.6806],\n",
      "        [-1.1018, -1.1361,  0.7904],\n",
      "        [ 0.9205,  0.9491, -0.6603],\n",
      "        [ 1.4693,  1.5149, -1.0540]])\n"
     ]
    }
   ],
   "source": [
    "print(z.grad)\n",
    "print(W.grad)"
   ]
  },
  {
   "cell_type": "markdown",
   "metadata": {},
   "source": [
    "### Apply adjoint method"
   ]
  },
  {
   "cell_type": "markdown",
   "metadata": {},
   "source": [
    "#### First, solve for adjoint state at all times"
   ]
  },
  {
   "cell_type": "code",
   "execution_count": 18,
   "metadata": {},
   "outputs": [],
   "source": [
    "mod = mini_net() # instantiate mini neural net\n",
    "# fun = ode_torch # Function representing forward dynamics (i.e. dz/dt)\n",
    "fun = mod.f\n",
    "\n",
    "torch.manual_seed(0)\n",
    "y = torch.randn(1) # ground truth\n",
    "\n",
    "# Parameters for Runge-Kutta\n",
    "t_span = [0.,5.]\n",
    "h = .5\n",
    "\n",
    "# Forward pass\n",
    "y_forward, t_forward = rk_adjoint(fun=fun, t_span=t_span, y0=torch.tensor([[0.]]), h=h)\n",
    "\n",
    "# Compute loss and adjoint at t=t_1\n",
    "z1 = y_forward[-1,:,:].requires_grad_(True)\n",
    "L = torch.mean((y-z1)**2) # compute loss\n",
    "L.backward() # compute adjoint at t = t_1\n",
    "\n",
    "# Backward pass (using adjoint)\n",
    "dyn = aug_dynamics(f=fun)\n",
    "y,t = rk_adjoint(fun=dyn.forward, t_span=t_span[::-1], y0=torch.cat([z1.grad, z1.detach()],dim=0), h=-h)"
   ]
  },
  {
   "cell_type": "code",
   "execution_count": 20,
   "metadata": {},
   "outputs": [
    {
     "data": {
      "image/png": "[encoded data removed]",
      "text/plain": [
       "<Figure size 432x288 with 1 Axes>"
      ]
     },
     "metadata": {
      "needs_background": "light"
     },
     "output_type": "display_data"
    }
   ],
   "source": [
    "fig,ax=plt.subplots()\n",
    "ax.plot(t_forward.numpy(),y_forward[:,0,0].numpy(), label='z(t) – forward', color='g',marker='o', linestyle='-')\n",
    "ax.plot(t.numpy(),y[:,1,0].detach().numpy(), label='z(t) – backward', color='r',marker='o', linestyle=':')\n",
    "ax.plot(t.numpy(),y[:,0,0].detach().numpy(), label='a(t)', marker='o', linestyle='--')\n",
    "ax.set_xlabel('t')\n",
    "ax.set_ylabel('y')\n",
    "ax.legend()\n",
    "plt.show()"
   ]
  },
  {
   "cell_type": "markdown",
   "metadata": {},
   "source": [
    "#### Next solve for derivative of loss with respect to parameters"
   ]
  },
  {
   "cell_type": "code",
   "execution_count": null,
   "metadata": {},
   "outputs": [],
   "source": []
  }
 ],
 "metadata": {
  "kernelspec": {
   "display_name": "mrtl_env",
   "language": "python",
   "name": "mrtl_env"
  },
  "language_info": {
   "codemirror_mode": {
    "name": "ipython",
    "version": 3
   },
   "file_extension": ".py",
   "mimetype": "text/x-python",
   "name": "python",
   "nbconvert_exporter": "python",
   "pygments_lexer": "ipython3",
   "version": "3.7.5"
  }
 },
 "nbformat": 4,
 "nbformat_minor": 2
}
