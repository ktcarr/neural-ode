{
 "cells": [
  {
   "cell_type": "code",
   "execution_count": 1,
   "metadata": {},
   "outputs": [],
   "source": [
    "import torch\n",
    "import torchvision\n",
    "import torch.nn as nn\n",
    "import torch.nn.functional as F\n",
    "import numpy as np\n",
    "import matplotlib.pyplot as plt\n",
    "import seaborn as sns\n",
    "sns.set()"
   ]
  },
  {
   "cell_type": "markdown",
   "metadata": {},
   "source": [
    "#### Functions representing dz/dt"
   ]
  },
  {
   "cell_type": "code",
   "execution_count": 2,
   "metadata": {},
   "outputs": [],
   "source": [
    "def ode_torch(t,y):\n",
    "    '''Example differential equation\n",
    "    Args: y is initial value\n",
    "          t is time'''\n",
    "    t = torch.tensor(t)\n",
    "    m = y - 1/2 * torch.exp(t/2) * torch.sin(5*t) + 5*torch.exp(t/2)*torch.cos(5*t)\n",
    "    return m\n",
    "\n",
    "class mini_net(nn.Module):\n",
    "    \n",
    "    def __init__(self, W=torch.randn(1, requires_grad=True)):\n",
    "        super(mini_net, self).__init__()\n",
    "        self.W = W\n",
    "        \n",
    "    def forward(self, t, y):\n",
    "        # This is dz/dt (change in hidden state with respect to time)\n",
    "        return(sig(self.W * y))\n",
    "    \n",
    "def sig(x):\n",
    "    return(torch.exp(x) / (torch.exp(x) + 1))\n",
    "\n",
    "class ode_forward(nn.Module):\n",
    "    \n",
    "    def __init__(self):\n",
    "        super(ode_forward, self).__init__()\n",
    "#         self.W = nn.Parameter(torch.randn(6)) # parameters\n",
    "        self.A = nn.Parameter(torch.randn(1)) # parameters\n",
    "        self.B = nn.Parameter(torch.randn(1)) # parameters\n",
    "        self.C = nn.Parameter(torch.randn(1)) # parameters\n",
    "        self.D = nn.Parameter(torch.randn(1)) # parameters\n",
    "        self.E = nn.Parameter(torch.randn(1)) # parameters\n",
    "        self.F = nn.Parameter(torch.randn(1)) # parameters\n",
    "        \n",
    "    def forward(self,t,y):\n",
    "        '''Example differential equation\n",
    "        Args: y is initial value\n",
    "              t is time'''\n",
    "        t = torch.tensor(t)\n",
    "        m = y - self.A * torch.exp(t/self.B) * torch.sin(self.C*t) +\\\n",
    "                                self.D*torch.exp(t/self.E)*torch.cos(self.F*t)\n",
    "        return m"
   ]
  },
  {
   "cell_type": "markdown",
   "metadata": {},
   "source": [
    "#### Solvers and augmented dynamics"
   ]
  },
  {
   "cell_type": "code",
   "execution_count": 73,
   "metadata": {},
   "outputs": [],
   "source": [
    "def rk(fun, t_span, y0, h):\n",
    "    '''Runge-Kutta 4th order method\n",
    "        Args: - fun is derivative\n",
    "              - t_span is tuple of start and end time\n",
    "              - y0 is initial condition\n",
    "              - h is step size (fixed in this case)'''\n",
    "    w = torch.tensor([1/6, 1/3, 1/3, 1/6]) # weights\n",
    "    w = w.expand(*y0.shape,4).permute(2,0,1)\n",
    "    n_steps = int((t_span[1]-t_span[0])/h)\n",
    "    y = y0 # set state to initial state\n",
    "    t = t_span[0]\n",
    "    all_y = [y0] # set state to initial state\n",
    "    all_t = [t_span[0]]\n",
    "    for _ in range(n_steps):\n",
    "        k1 = h * fun(t     , y)\n",
    "        k2 = h * fun(t+.5*h, y+.5*k1)\n",
    "        k3 = h * fun(t+.5*h, y+.5*k2)\n",
    "        k4 = h * fun(t+   h, y+   k3)\n",
    "        t = t + h\n",
    "        y = y + torch.sum(w*torch.stack([k1,k2,k3,k4],dim=0), dim=0)\n",
    "        all_y.append(y)\n",
    "        all_t.append(t)\n",
    "    return torch.stack(all_y,dim=0), torch.tensor(all_t)\n",
    "\n",
    "def euler(fun, t_span, y0, h):\n",
    "    '''Function to compute numerical approximation of ODE. \n",
    "    Args: - dy_dt is a function which takes in y,t and represents the derivative\n",
    "          - y0 and t0 represent the initial value and time, respectively\n",
    "          - h is the step size (fixed, in this case)\n",
    "          - n_steps is the number of steps to take'''\n",
    "    n_steps = int((t_span[1]-t_span[0])/h)\n",
    "    y = y0 # set state to initial state\n",
    "    t = t_span[0]\n",
    "    all_y = [y0] # set state to initial state\n",
    "    all_t = [t_span[0]]\n",
    "    for _ in range(n_steps):\n",
    "        m = fun(t,y) # compute derivative at t0\n",
    "#         print('t: {}, y: {}, m: {}, h: {}'.format(t,y,m,h))\n",
    "        y = y + h*m # approximate next value\n",
    "        t = t + h\n",
    "        all_y.append(y) # record values\n",
    "        all_t.append(t)  \n",
    "    return(torch.stack(all_y, dim=0), torch.tensor(all_t))\n",
    "\n",
    "class aug_dynamics():\n",
    "    '''Class representing augmented dynamics of the system. Forward dynamics are governed by .\n",
    "        To update parameters, we require derivative of loss with respect to the hidden state, \n",
    "        dL/dz (i.e., the adjoint). To compute the adjoint and the derivative of the loss with \n",
    "        respect to the parameters, we use will use the ODE solver with the augmented dynamics.'''\n",
    "    \n",
    "    def __init__(self, model):\n",
    "        \n",
    "        self.model = model # model to represent the dynamics of hidden state (i.e. dz/dt)\n",
    "\n",
    "    def forward(self, t, aug_state):\n",
    "        '''Forward pass of the dynamics. That is, evaluate the derivatives.\n",
    "            Args: t is time\n",
    "                  aug_state is tensor concatenation [a,z], i.e. adjoint state and hidden state\n",
    "                  fun is function used to evaluate ode_vjp\n",
    "            Returns: derivatives of adjoint and hidden state (respectively) with respect to time\n",
    "                        i.e. torch.concat([da/dt, dz/dt])'''\n",
    "        len_z = int(len(aug_state)/2)\n",
    "        a = aug_state[:1,:].detach()\n",
    "        z = aug_state[1:,:].detach().clone().requires_grad_(True)\n",
    "        \n",
    "        # Compute derivative of adjoint with respect to time\n",
    "        dz_dt = self.model(t, z) # evaluate function \n",
    "        \n",
    "        # Next, do backward step – this updates the gradients in the model parameters\n",
    "        dz_dt.backward(-a) # get vector-jacobian product (vjp)\n",
    "        \n",
    "        return torch.cat([z.grad, dz_dt.detach()], dim=0)"
   ]
  },
  {
   "cell_type": "markdown",
   "metadata": {},
   "source": [
    "#### Apply adjoint method"
   ]
  },
  {
   "cell_type": "code",
   "execution_count": 74,
   "metadata": {},
   "outputs": [],
   "source": [
    "mod = mini_net() # instantiate mini neural net\n",
    "# fun = ode_torch # Function representing forward dynamics (i.e. dz/dt)\n",
    "fun = mod\n",
    "\n",
    "torch.manual_seed(0)\n",
    "y = torch.randn(1) # ground truth\n",
    "\n",
    "# Parameters for Runge-Kutta\n",
    "t_span = [0.,5.]\n",
    "h = .5\n",
    "\n",
    "# Forward pass\n",
    "y_forward, t_forward = rk(fun=fun, t_span=t_span, y0=torch.tensor([[0.]]), h=h)\n",
    "\n",
    "# Compute loss and adjoint at t=t_1\n",
    "z1 = y_forward[-1,:,:].detach().requires_grad_(True)\n",
    "L = torch.mean((y-z1)**2) # compute loss\n",
    "L.backward() # compute adjoint at t = t_1\n",
    "\n",
    "# Backward pass (using adjoint)\n",
    "dyn = aug_dynamics(model=mod)\n",
    "y,t = rk(fun=dyn.forward, t_span=t_span[::-1], y0=torch.cat([z1.grad, z1.detach()],dim=0), h=-h)"
   ]
  },
  {
   "cell_type": "code",
   "execution_count": 75,
   "metadata": {},
   "outputs": [
    {
     "data": {
      "image/png": "[encoded data removed]",
      "text/plain": [
       "<Figure size 432x288 with 1 Axes>"
      ]
     },
     "metadata": {
      "needs_background": "light"
     },
     "output_type": "display_data"
    }
   ],
   "source": [
    "fig,ax=plt.subplots()\n",
    "ax.plot(t_forward.numpy(),y_forward[:,0,0].detach().numpy(), label='z(t) – forward', color='g',marker='o', linestyle='-')\n",
    "ax.plot(t.numpy(),y[:,1,0].detach().numpy(), label='z(t) – backward', color='r',marker='o', linestyle=':')\n",
    "ax.plot(t.numpy(),y[:,0,0].detach().numpy(), label='a(t)', marker='o', linestyle='--')\n",
    "ax.set_xlabel('t')\n",
    "ax.set_ylabel('y')\n",
    "ax.legend()\n",
    "plt.show()"
   ]
  },
  {
   "cell_type": "markdown",
   "metadata": {},
   "source": [
    "## Augmented dynamics with theta"
   ]
  },
  {
   "cell_type": "markdown",
   "metadata": {},
   "source": [
    "#### Next solve for derivative of loss with respect to parameters"
   ]
  },
  {
   "cell_type": "code",
   "execution_count": 76,
   "metadata": {},
   "outputs": [
    {
     "data": {
      "image/png": "[encoded data removed]",
      "text/plain": [
       "<Figure size 432x288 with 1 Axes>"
      ]
     },
     "metadata": {
      "needs_background": "light"
     },
     "output_type": "display_data"
    }
   ],
   "source": [
    "torch.manual_seed(0) # set random seed\n",
    "\n",
    "mod = ode_forward() # create model\n",
    "y, _ = rk(fun=ode_torch, t_span=t_span, y0=torch.tensor([[0.]]), h=h)\n",
    "y = y[-1] # ground truth\n",
    "\n",
    "# Parameters for Runge-Kutta\n",
    "t_span = [0.,5.]\n",
    "h = .5\n",
    "\n",
    "# Forward pass\n",
    "y_forward, t_forward = rk(fun=mod, t_span=t_span, y0=torch.tensor([[0.]]), h=h)\n",
    "\n",
    "# Compute loss and adjoint at t=t_1\n",
    "z1 = y_forward[-1,:,:].detach().requires_grad_(True)\n",
    "loss = torch.mean((y-z1)**2) # compute loss (MSE)\n",
    "loss.backward() # compute adjoint at t = t_1\n",
    "\n",
    "# Backward pass (using adjoint)\n",
    "dyn = aug_dynamics(model=mod)\n",
    "yhat,t = rk(fun=dyn.forward, t_span=t_span[::-1], y0=torch.cat([z1.grad, z1.detach()],dim=0), h=-h)\n",
    "\n",
    "fig,ax=plt.subplots()\n",
    "ax.plot(t_forward.numpy(),y_forward[:,0,0].detach().numpy(), label='z(t) – forward', color='g',marker='o', linestyle='-')\n",
    "ax.plot(t.numpy(),yhat[:,1,0].detach().numpy(), label='z(t) – backward', color='r',marker='o', linestyle=':')\n",
    "ax.plot(t.numpy(),yhat[:,0,0].detach().numpy(), label='a(t)', marker='o', linestyle='--')\n",
    "ax.set_xlabel('t')\n",
    "ax.set_ylabel('y')\n",
    "ax.legend()\n",
    "plt.show()"
   ]
  },
  {
   "cell_type": "markdown",
   "metadata": {},
   "source": [
    "## Train the model"
   ]
  },
  {
   "cell_type": "code",
   "execution_count": 77,
   "metadata": {},
   "outputs": [
    {
     "name": "stdout",
     "output_type": "stream",
     "text": [
      "Epoch 50 loss: 3614.391357421875\n",
      "57.65756607055664\n",
      "Epoch 100 loss: 4922.38330078125\n",
      "67.69745635986328\n"
     ]
    }
   ],
   "source": [
    "torch.manual_seed(0) # set random seed\n",
    "\n",
    "# Ground truth (differential equation)\n",
    "y, _ = rk(fun=ode_torch, t_span=t_span, y0=torch.tensor([[0.]]), h=h)\n",
    "y = y[-1] # ground truth\n",
    "\n",
    "mod = ode_forward() # create model\n",
    "# optimizer = torch.optim.SGD(mod.parameters(), lr=.0000000001)\n",
    "optimizer = torch.optim.Adam(mod.parameters())\n",
    "\n",
    "n_epochs = 100\n",
    "\n",
    "loss_tracker = []\n",
    "for epoch in range(1, n_epochs+1):\n",
    "#     print(torch.cat(list(mod.parameters())).detach())\n",
    "\n",
    "    # Parameters for Runge-Kutta\n",
    "    t_span = [0.,5.]\n",
    "    h = .5\n",
    "\n",
    "    mod.zero_grad()\n",
    "    with torch.no_grad():\n",
    "        # Forward pass\n",
    "        y_forward, t_forward = rk(fun=mod, t_span=t_span, y0=torch.tensor([[0.]]), h=h)\n",
    "\n",
    "    # Compute loss and adjoint at t=t_1\n",
    "    z1 = y_forward[-1,:,:].requires_grad_(True)\n",
    "    loss = torch.mean((y-z1)**2) # compute loss\n",
    "    loss.backward()\n",
    "    loss_tracker.append(loss.item())\n",
    "    \n",
    "    # Backward pass (using adjoint)\n",
    "    dyn = aug_dynamics(model=mod)\n",
    "    yhat,t = rk(fun=dyn.forward, t_span=t_span[::-1], y0=torch.cat([z1.grad, z1.detach()],dim=0), h=-h)\n",
    "    \n",
    "    # Update parameters\n",
    "    optimizer.step()\n",
    "    \n",
    "#     if (epoch%10 == 0):\n",
    "#         print('Epoch {} loss: {}'.format(epoch, loss))\n",
    "        \n",
    "    if (epoch%50 == 0):\n",
    "        print('Epoch {} loss: {}'.format(epoch, loss))\n",
    "        print(z1.item())\n",
    "#         for p in mod.parameters():\n",
    "#             print(p.grad)"
   ]
  },
  {
   "cell_type": "markdown",
   "metadata": {},
   "source": [
    "### Compare gradient to direct backpropogation"
   ]
  },
  {
   "cell_type": "markdown",
   "metadata": {},
   "source": [
    "#### Using adjoint"
   ]
  },
  {
   "cell_type": "code",
   "execution_count": 78,
   "metadata": {},
   "outputs": [
    {
     "name": "stdout",
     "output_type": "stream",
     "text": [
      "tensor([-9623.9805])\n",
      "tensor([70705.2734])\n",
      "tensor([3762.6951])\n",
      "tensor([-42525.0820])\n",
      "tensor([2883.3574])\n",
      "tensor([-11598.2012])\n"
     ]
    }
   ],
   "source": [
    "torch.manual_seed(0) # set random seed\n",
    "\n",
    "# Ground truth (differential equation)\n",
    "y, _ = rk(fun=ode_torch, t_span=t_span, y0=torch.tensor([[0.]]), h=h)\n",
    "y = y[-1] # ground truth\n",
    "\n",
    "mod = ode_forward() # create model\n",
    "\n",
    "# Parameters for Runge-Kutta\n",
    "t_span = [0.,5.]\n",
    "h = .5\n",
    "\n",
    "mod.zero_grad()\n",
    "with torch.no_grad():\n",
    "    y_forward, t_forward = rk(fun=mod, t_span=t_span, y0=torch.tensor([[0.]]), h=h)\n",
    "\n",
    "# Compute loss and adjoint at t=t_1\n",
    "z1 = y_forward[-1,:,:].requires_grad_(True)\n",
    "loss = torch.mean((y-z1)**2) # compute loss\n",
    "loss.backward() # compute adjoint at t = t_1\n",
    "    \n",
    "# Backward pass (using adjoint)\n",
    "dyn = aug_dynamics(model=mod)\n",
    "yhat,t = rk(fun=dyn.forward, t_span=t_span[::-1], y0=torch.cat([z1.grad, z1.detach()],dim=0), h=-h)\n",
    "\n",
    "for p in mod.parameters():\n",
    "    print(p.grad)"
   ]
  },
  {
   "cell_type": "markdown",
   "metadata": {},
   "source": [
    "#### Backprop"
   ]
  },
  {
   "cell_type": "code",
   "execution_count": 79,
   "metadata": {},
   "outputs": [
    {
     "name": "stdout",
     "output_type": "stream",
     "text": [
      "tensor([1331.6857])\n",
      "tensor([-9138.8701])\n",
      "tensor([-562.6266])\n",
      "tensor([5156.9263])\n",
      "tensor([-397.1588])\n",
      "tensor([1452.3306])\n"
     ]
    }
   ],
   "source": [
    "torch.manual_seed(0) # set random seed\n",
    "mod2 = ode_forward() # create model\n",
    "\n",
    "mod2.zero_grad()\n",
    "# with torch.no_grad():\n",
    "y_forward, t_forward = rk(fun=mod2, t_span=t_span, y0=torch.tensor([[0.]]), h=h) # Forward pass\n",
    "\n",
    "# Compute loss and adjoint at t=t_1\n",
    "z1 = y_forward[-1,:,:]\n",
    "loss = torch.mean((y-z1)**2) # compute loss\n",
    "loss.backward() # compute adjoint at t = t_1\n",
    "\n",
    "for p in mod2.parameters():\n",
    "    print(p.grad)"
   ]
  },
  {
   "cell_type": "markdown",
   "metadata": {},
   "source": [
    "#### Train model with normal backprop"
   ]
  },
  {
   "cell_type": "code",
   "execution_count": null,
   "metadata": {},
   "outputs": [
    {
     "name": "stdout",
     "output_type": "stream",
     "text": [
      "Epoch 300 loss: 352.6011657714844\n",
      "16.31543731689453\n",
      "Epoch 600 loss: 115.8106918334961\n",
      "8.299297332763672\n"
     ]
    }
   ],
   "source": [
    "torch.manual_seed(0) # set random seed\n",
    "n_epochs = 3000\n",
    "\n",
    "mod = ode_forward()\n",
    "optimizer = torch.optim.Adam(mod.parameters())\n",
    "\n",
    "loss_tracker = []\n",
    "for epoch in range(1,n_epochs+1):\n",
    "    \n",
    "    mod.zero_grad()\n",
    "    \n",
    "    y_forward, _ = rk(fun=mod, t_span=t_span, y0=torch.tensor([[0.]]), h=h) # Forward pass\n",
    "    \n",
    "    # Compute loss at t=t_1\n",
    "    z1 = y_forward[-1,:,:]\n",
    "    loss = torch.mean((y-z1)**2) # compute loss\n",
    "    loss.backward() # compute adjoint at t = t_1\n",
    "    loss_tracker.append(loss.item())\n",
    "    \n",
    "    optimizer.step()\n",
    "    \n",
    "    if (epoch%300 == 0):\n",
    "        print('Epoch {} loss: {}'.format(epoch, loss))\n",
    "        print(z1.item())"
   ]
  },
  {
   "cell_type": "markdown",
   "metadata": {},
   "source": [
    "### Mini example"
   ]
  },
  {
   "cell_type": "code",
   "execution_count": null,
   "metadata": {},
   "outputs": [],
   "source": [
    "# f = ax + bt\n",
    "class diff_eq(nn.Module):\n",
    "    '''This class represents the 'f' function (change in hidden state with respect to time)'''\n",
    "    \n",
    "    def __init__(self):\n",
    "        super(diff_eq, self).__init__()\n",
    "        \n",
    "        self.a = nn.Parameter(torch.tensor(3.))\n",
    "        self.b = nn.Parameter(torch.tensor(1.))\n",
    "        \n",
    "    def forward(self, t, z):\n",
    "        return(self.a*z + self.b*t)"
   ]
  },
  {
   "cell_type": "code",
   "execution_count": null,
   "metadata": {},
   "outputs": [],
   "source": [
    "# Parameters for Runge-Kutta\n",
    "t_span = [1.,2.]\n",
    "h = .5\n",
    "y = torch.tensor(10.) # ground truth\n",
    "\n",
    "diffeq = diff_eq()"
   ]
  },
  {
   "cell_type": "markdown",
   "metadata": {},
   "source": [
    "#### Adjoint method"
   ]
  },
  {
   "cell_type": "code",
   "execution_count": null,
   "metadata": {
    "scrolled": true
   },
   "outputs": [],
   "source": [
    "solver = euler\n",
    "\n",
    "#### BACKPROPAGATION ####\n",
    "diffeq.zero_grad()\n",
    "y_forward, t_forward = solver(fun=diffeq, t_span=t_span, y0=torch.tensor([[2.]]), h=h) # Forward pass\n",
    "\n",
    "loss=y_forward[-1,:,:]\n",
    "loss.backward()\n",
    "\n",
    "print('Backprop gradients:')\n",
    "for p in diffeq.parameters():\n",
    "    print(p.grad)\n",
    "print()\n",
    "\n",
    "    \n",
    "#### ADJOINT METHOD ####\n",
    "diffeq.zero_grad()\n",
    "y_forward, t_forward = solver(fun=diffeq, t_span=t_span, y0=torch.tensor([[2.]]), h=h) # Forward pass\n",
    "\n",
    "# Compute loss and adjoint at t=t_1\n",
    "z1 = y_forward[-1,:,:].detach().clone().requires_grad_(True)\n",
    "loss = z1\n",
    "loss.backward() # compute adjoint at t = t_1\n",
    "    \n",
    "# # Backward pass (using adjoint)\n",
    "dyn = aug_dynamics(model=diffeq)\n",
    "yhat,t = solver(fun=dyn.forward, t_span=t_span[::-1], y0=torch.cat([z1.grad, z1.detach()],dim=0), h=-h)\n",
    "# dyn.forward(t_span[0],yhat[-1]) # Compute gradient of f with respect to theta for first time step\n",
    "\n",
    "print('Adjoint gradients:')\n",
    "for p in diffeq.parameters():\n",
    "    print(p.grad)"
   ]
  },
  {
   "cell_type": "markdown",
   "metadata": {},
   "source": [
    "#### Compare to authors' code"
   ]
  },
  {
   "cell_type": "code",
   "execution_count": null,
   "metadata": {},
   "outputs": [],
   "source": [
    "t_span=[1.,1.5,2.]\n",
    "from torchdiffeq import odeint_adjoint, odeint\n",
    "method = 'euler'\n",
    "\n",
    "diffeq = diff_eq()\n",
    "diffeq.zero_grad()\n",
    "yhat = odeint(func=diffeq, y0=torch.tensor(2.), t = torch.tensor(t_span), method=method)\n",
    "yhat[-1].backward()\n",
    "\n",
    "print('Backpropagation gradients:')\n",
    "for p in diffeq.parameters():\n",
    "    print(p.grad)\n",
    "print()\n",
    "    \n",
    "diffeq = diff_eq()\n",
    "diffeq.zero_grad()\n",
    "yhat = odeint_adjoint(func=diffeq, y0=torch.tensor(2.), t = torch.tensor(t_span), method=method)\n",
    "yhat[-1].backward()\n",
    "\n",
    "print('Adjoint gradients:')\n",
    "for p in diffeq.parameters():\n",
    "    print(p.grad)"
   ]
  }
 ],
 "metadata": {
  "kernelspec": {
   "display_name": "mrtl_env",
   "language": "python",
   "name": "mrtl_env"
  },
  "language_info": {
   "codemirror_mode": {
    "name": "ipython",
    "version": 3
   },
   "file_extension": ".py",
   "mimetype": "text/x-python",
   "name": "python",
   "nbconvert_exporter": "python",
   "pygments_lexer": "ipython3",
   "version": "3.7.5"
  }
 },
 "nbformat": 4,
 "nbformat_minor": 2
}
