{
 "cells": [
  {
   "cell_type": "code",
   "execution_count": 1,
   "metadata": {},
   "outputs": [],
   "source": [
    "import torch\n",
    "import torchvision\n",
    "import torch.nn as nn\n",
    "import torch.nn.functional as F\n",
    "import numpy as np\n",
    "import matplotlib.pyplot as plt\n",
    "import seaborn as sns\n",
    "sns.set()"
   ]
  },
  {
   "cell_type": "markdown",
   "metadata": {},
   "source": [
    "#### Functions representing dz/dt"
   ]
  },
  {
   "cell_type": "code",
   "execution_count": 2,
   "metadata": {},
   "outputs": [],
   "source": [
    "def ode_torch(t,y):\n",
    "    '''Example differential equation\n",
    "    Args: y is initial value\n",
    "          t is time'''\n",
    "    t = torch.tensor(t)\n",
    "    m = y - 1/2 * torch.exp(t/2) * torch.sin(5*t) + 5*torch.exp(t/2)*torch.cos(5*t)\n",
    "    return m\n",
    "\n",
    "class mini_net(nn.Module):\n",
    "    \n",
    "    def __init__(self, W=torch.randn(1, requires_grad=True)):\n",
    "        super(mini_net, self).__init__()\n",
    "        self.W = W\n",
    "        \n",
    "    def forward(self, t, y):\n",
    "        # This is dz/dt (change in hidden state with respect to time)\n",
    "        return(sig(self.W * y))\n",
    "    \n",
    "def sig(x):\n",
    "    return(torch.exp(x) / (torch.exp(x) + 1))\n",
    "\n",
    "class ode_forward(nn.Module):\n",
    "    \n",
    "    def __init__(self):\n",
    "        super(ode_forward, self).__init__()\n",
    "#         self.W = nn.Parameter(torch.randn(6)) # parameters\n",
    "        self.A = nn.Parameter(torch.randn(1)) # parameters\n",
    "        self.B = nn.Parameter(torch.randn(1)) # parameters\n",
    "        self.C = nn.Parameter(torch.randn(1)) # parameters\n",
    "        self.D = nn.Parameter(torch.randn(1)) # parameters\n",
    "        self.E = nn.Parameter(torch.randn(1)) # parameters\n",
    "        self.F = nn.Parameter(torch.randn(1)) # parameters\n",
    "        \n",
    "    def forward(self,t,y):\n",
    "        '''Example differential equation\n",
    "        Args: y is initial value\n",
    "              t is time'''\n",
    "        t = torch.tensor(t)\n",
    "        m = y - self.A * torch.exp(t/self.B) * torch.sin(self.C*t) +\\\n",
    "                                self.D*torch.exp(t/self.E)*torch.cos(self.F*t)\n",
    "        return m\n",
    "\n",
    "# f = ax + bt\n",
    "class diff_eq(nn.Module):\n",
    "    '''This class represents the 'f' function (change in hidden state with respect to time)'''\n",
    "    \n",
    "    def __init__(self):\n",
    "        super(diff_eq, self).__init__()\n",
    "        \n",
    "        self.a = nn.Parameter(torch.tensor(3.))\n",
    "        self.b = nn.Parameter(torch.tensor(1.))\n",
    "        \n",
    "    def forward(self, t, z):\n",
    "        return(self.a*z + self.b*t)"
   ]
  },
  {
   "cell_type": "markdown",
   "metadata": {},
   "source": [
    "#### Solvers and augmented dynamics"
   ]
  },
  {
   "cell_type": "code",
   "execution_count": 3,
   "metadata": {},
   "outputs": [],
   "source": [
    "def rk(fun, t, y0):\n",
    "    '''Function performs RK4 algorithm\n",
    "        Args: fun is a function representing the derivative of the state with respect to time\n",
    "              t is list of times to obtain estimates for\n",
    "              y0 is the initial condition of the state\n",
    "        Return: tensor reprsenting state at each time'''\n",
    "    y = [y0]\n",
    "    y_ = y0\n",
    "    for i, t_ in enumerate(t[:-1]):\n",
    "        h = t[1]-t[0]\n",
    "        y_ = rk_step(fun, t=t[i], y=y_, h=h)\n",
    "        y.append(y_.detach())   \n",
    "    return torch.cat(y,dim=0)\n",
    "\n",
    "def rk_step(fun, t, y, h):\n",
    "    '''Function takes a single step in RK4 algorithm\n",
    "        Args: fun is a function representing the derivative of the state with respect to time\n",
    "              t is a two-element tuple representing the initial and final end times\n",
    "              y0 is the initial condition of the state'''\n",
    "    k1 = h * fun(t     , y)\n",
    "    k2 = h * fun(t+.5*h, y+.5*k1)\n",
    "    k3 = h * fun(t+.5*h, y+.5*k2)\n",
    "    k4 = h * fun(t+   h, y+   k3)\n",
    "    \n",
    "    w = torch.tensor([[1/6, 1/3, 1/3, 1/6]]) # weights\n",
    "    y_ = y + torch.sum(w*torch.cat([k1,k2,k3,k4],dim=1), dim=1).view(-1,1)\n",
    "    \n",
    "    return y_\n",
    "\n",
    "def euler(fun, t_span, y0, h, states = None):\n",
    "    '''Function to compute numerical approximation of ODE. \n",
    "    Args: - dy_dt is a function which takes in y,t and represents the derivative\n",
    "          - y0 and t0 represent the initial value and time, respectively\n",
    "          - h is the step size (fixed, in this case)\n",
    "          - n_steps is the number of steps to take'''\n",
    "    n_steps = int((t_span[1]-t_span[0])/h)\n",
    "    y = y0 # set state to initial state\n",
    "    t = t_span[0]\n",
    "    all_y = [y0] # set state to initial state\n",
    "    all_t = [t_span[0]]\n",
    "    for i in range(1, n_steps+1):\n",
    "        if states is None:\n",
    "#             m = fun(t,y,states) # compute derivative at t0\n",
    "            m = fun(t,y)\n",
    "        else:\n",
    "            m = fun(t,y,states[-i], h=h)\n",
    "        y = y + h*m # approximate next value\n",
    "        t = t + h\n",
    "        all_y.append(y) # record values\n",
    "        all_t.append(t)  \n",
    "    return(torch.stack(all_y, dim=0), torch.tensor(all_t))\n",
    "    \n",
    "class aug_dynamics_new():\n",
    "    '''Class representing augmented dynamics of the system. Forward dynamics are governed by .\n",
    "        To update parameters, we require derivative of loss with respect to the hidden state, \n",
    "        dL/dz (i.e., the adjoint). To compute the adjoint and the derivative of the loss with \n",
    "        respect to the parameters, we use will use the ODE solver with the augmented dynamics.'''\n",
    "    \n",
    "    def __init__(self, model, len_hidden_state):\n",
    "        \n",
    "        self.model = model # model to represent the dynamics of hidden state (i.e. dz/dt)\n",
    "        self.len_hidden_state = len_hidden_state\n",
    "\n",
    "    def forward(self, t, aug_state):\n",
    "        '''Forward pass of the dynamics. That is, evaluate the derivatives.\n",
    "            Args: t is time\n",
    "                  aug_state is tensor concatenation [a,z], i.e. adjoint state and hidden state\n",
    "                  fun is function used to evaluate ode_vjp\n",
    "            Returns: derivatives of adjoint and hidden state (respectively) with respect to time\n",
    "                        i.e. torch.concat([da/dt, dz/dt])'''\n",
    "\n",
    "        dt = t[1]-t[0]\n",
    "#         a = aug_state[:1,:].detach()\n",
    "#         z = aug_state[1:2,:].detach().clone().requires_grad_(True)\n",
    "        a = aug_state[:self.len_hidden_state,:]\n",
    "        z = aug_state[self.len_hidden_state:2*self.len_hidden_state,:].detach().clone().requires_grad_(True)\n",
    "        \n",
    "        dz_dt = self.model(t[0], z) # evaluate function \n",
    "        \n",
    "        self.model.zero_grad() # zero gradients in model\n",
    "        dz_dt.backward(a) # backward step – this updates the gradients in the model parameters\n",
    "        \n",
    "        da_dt = -z.grad\n",
    "        da_theta_dt = -torch.tensor([[p.grad for p in self.model.parameters()]])\n",
    "        \n",
    "        return torch.cat([da_dt, dz_dt.detach(), da_theta_dt], dim=1).transpose(0,1)"
   ]
  },
  {
   "cell_type": "markdown",
   "metadata": {},
   "source": [
    "## Adjoint method"
   ]
  },
  {
   "cell_type": "code",
   "execution_count": 5,
   "metadata": {},
   "outputs": [
    {
     "name": "stdout",
     "output_type": "stream",
     "text": [
      "tensor([[20.0855],\n",
      "        [ 2.0000],\n",
      "        [45.6747],\n",
      "        [ 8.1491]])\n"
     ]
    }
   ],
   "source": [
    "# Parameters for Runge-Kutta\n",
    "t_span = [1.,2.]\n",
    "h=.01\n",
    "t = torch.tensor(list(np.concatenate([np.arange(*t_span, h), [t_span[-1]]])))\n",
    "\n",
    "diffeq = diff_eq()\n",
    "solver = rk\n",
    "\n",
    "#### ADJOINT METHOD ####\n",
    "diffeq.zero_grad()\n",
    "y_forward = solver(fun=diffeq, t=t, y0=torch.tensor([[2.]])) # Forward pass\n",
    "\n",
    "# # Compute loss and adjoint at t=t_1\n",
    "z1 = y_forward[-1:,:].detach().clone().requires_grad_(True)\n",
    "loss = z1\n",
    "loss.backward() # compute adjoint at t = t_1\n",
    "a = z1.grad # get initial adjoint state (gradient of loss W.R.T. final hidden state)\n",
    "    \n",
    "# # GOING BACKWARD\n",
    "t = torch.flip(t,dims=(0,))\n",
    "z = torch.flip(y_forward,dims=(0,))\n",
    "dyn = aug_dynamics_new(model=diffeq, len_hidden_state = len(z1))\n",
    "\n",
    "aug_state = torch.cat([a, z[0:1], torch.tensor([[0.,0.]])],dim=1).transpose(0,1) # second 'a' is dummy variable\n",
    "for i, t_ in enumerate(t[:-1]):\n",
    "    h_ = t[i+1] - t[i]\n",
    "    aug_state[len(z1):2*len(z1)] = z[i:i+1]\n",
    "    aug_state = rk_step(fun=dyn.forward, t = torch.tensor([t[i], t[i+1]]), y=aug_state, h=h_)\n",
    "    \n",
    "print(aug_state)"
   ]
  },
  {
   "cell_type": "markdown",
   "metadata": {},
   "source": [
    "#### Compare to authors' code"
   ]
  },
  {
   "cell_type": "code",
   "execution_count": 6,
   "metadata": {},
   "outputs": [
    {
     "name": "stdout",
     "output_type": "stream",
     "text": [
      "Backpropagation gradients:\n",
      "tensor(45.6747)\n",
      "tensor(8.1491)\n",
      "\n",
      "Adjoint gradients:\n",
      "tensor(45.6747)\n",
      "tensor(8.1491)\n"
     ]
    }
   ],
   "source": [
    "t = torch.tensor(list(np.concatenate([np.arange(*t_span, h), [t_span[-1]]])))\n",
    "from torchdiffeq import odeint_adjoint, odeint\n",
    "method = 'rk4'\n",
    "\n",
    "diffeq = diff_eq()\n",
    "diffeq.zero_grad()\n",
    "yhat = odeint(func=diffeq, y0=torch.tensor(2.), t = t, method=method)\n",
    "yhat[-1].backward()\n",
    "\n",
    "print('Backpropagation gradients:')\n",
    "for p in diffeq.parameters():\n",
    "    print(p.grad)\n",
    "print()\n",
    "    \n",
    "diffeq = diff_eq()\n",
    "diffeq.zero_grad()\n",
    "yhat = odeint_adjoint(func=diffeq, y0=torch.tensor(2.), t = t, method=method)\n",
    "yhat[-1].backward()\n",
    "\n",
    "print('Adjoint gradients:')\n",
    "for p in diffeq.parameters():\n",
    "    print(p.grad)"
   ]
  },
  {
   "cell_type": "code",
   "execution_count": 9,
   "metadata": {
    "collapsed": true
   },
   "outputs": [
    {
     "data": {
      "image/svg+xml": [
       "<?xml version=\"1.0\" encoding=\"UTF-8\" standalone=\"no\"?>\n",
       "<!DOCTYPE svg PUBLIC \"-//W3C//DTD SVG 1.1//EN\"\n",
       " \"http://www.w3.org/Graphics/SVG/1.1/DTD/svg11.dtd\">\n",
       "<!-- Generated by graphviz version 2.42.3 (20191010.1750)\n",
       " -->\n",
       "<!-- Title: %3 Pages: 1 -->\n",
       "<svg width=\"364pt\" height=\"264pt\"\n",
       " viewBox=\"0.00 0.00 363.96 264.00\" xmlns=\"http://www.w3.org/2000/svg\" xmlns:xlink=\"http://www.w3.org/1999/xlink\">\n",
       "<g id=\"graph0\" class=\"graph\" transform=\"scale(1 1) rotate(0) translate(4 260)\">\n",
       "<title>%3</title>\n",
       "<polygon fill=\"white\" stroke=\"transparent\" points=\"-4,4 -4,-260 359.96,-260 359.96,4 -4,4\"/>\n",
       "<!-- 112180677712 -->\n",
       "<g id=\"node1\" class=\"node\">\n",
       "<title>112180677712</title>\n",
       "<polygon fill=\"#caff70\" stroke=\"black\" points=\"267.93,-20 174,-20 174,0 267.93,0 267.93,-20\"/>\n",
       "<text text-anchor=\"middle\" x=\"220.96\" y=\"-6.4\" font-family=\"Times,serif\" font-size=\"12.00\">SelectBackward</text>\n",
       "</g>\n",
       "<!-- 4718025808 -->\n",
       "<g id=\"node2\" class=\"node\">\n",
       "<title>4718025808</title>\n",
       "<polygon fill=\"lightgrey\" stroke=\"black\" points=\"306.76,-76 135.16,-76 135.16,-56 306.76,-56 306.76,-76\"/>\n",
       "<text text-anchor=\"middle\" x=\"220.96\" y=\"-62.4\" font-family=\"Times,serif\" font-size=\"12.00\">OdeintAdjointMethodBackward</text>\n",
       "</g>\n",
       "<!-- 4718025808&#45;&gt;112180677712 -->\n",
       "<g id=\"edge1\" class=\"edge\">\n",
       "<title>4718025808&#45;&gt;112180677712</title>\n",
       "<path fill=\"none\" stroke=\"black\" d=\"M220.96,-55.59C220.96,-48.7 220.96,-39.1 220.96,-30.57\"/>\n",
       "<polygon fill=\"black\" stroke=\"black\" points=\"224.46,-30.3 220.96,-20.3 217.46,-30.3 224.46,-30.3\"/>\n",
       "</g>\n",
       "<!-- 112180234512 -->\n",
       "<g id=\"node3\" class=\"node\">\n",
       "<title>112180234512</title>\n",
       "<polygon fill=\"lightgrey\" stroke=\"black\" points=\"139.77,-132 58.15,-132 58.15,-112 139.77,-112 139.77,-132\"/>\n",
       "<text text-anchor=\"middle\" x=\"98.96\" y=\"-118.4\" font-family=\"Times,serif\" font-size=\"12.00\">CatBackward</text>\n",
       "</g>\n",
       "<!-- 112180234512&#45;&gt;4718025808 -->\n",
       "<g id=\"edge2\" class=\"edge\">\n",
       "<title>112180234512&#45;&gt;4718025808</title>\n",
       "<path fill=\"none\" stroke=\"black\" d=\"M119.38,-111.96C139,-103.28 168.86,-90.06 191.14,-80.2\"/>\n",
       "<polygon fill=\"black\" stroke=\"black\" points=\"192.75,-83.32 200.47,-76.07 189.91,-76.91 192.75,-83.32\"/>\n",
       "</g>\n",
       "<!-- 112180324752 -->\n",
       "<g id=\"node4\" class=\"node\">\n",
       "<title>112180324752</title>\n",
       "<polygon fill=\"lightgrey\" stroke=\"black\" points=\"89.88,-188 0.04,-188 0.04,-168 89.88,-168 89.88,-188\"/>\n",
       "<text text-anchor=\"middle\" x=\"44.96\" y=\"-174.4\" font-family=\"Times,serif\" font-size=\"12.00\">ViewBackward</text>\n",
       "</g>\n",
       "<!-- 112180324752&#45;&gt;112180234512 -->\n",
       "<g id=\"edge3\" class=\"edge\">\n",
       "<title>112180324752&#45;&gt;112180234512</title>\n",
       "<path fill=\"none\" stroke=\"black\" d=\"M54.37,-167.59C62.11,-159.85 73.27,-148.69 82.49,-139.47\"/>\n",
       "<polygon fill=\"black\" stroke=\"black\" points=\"85.07,-141.84 89.66,-132.3 80.12,-136.89 85.07,-141.84\"/>\n",
       "</g>\n",
       "<!-- 112180325008 -->\n",
       "<g id=\"node5\" class=\"node\">\n",
       "<title>112180325008</title>\n",
       "<polygon fill=\"lightblue\" stroke=\"black\" points=\"71.96,-256 17.96,-256 17.96,-224 71.96,-224 71.96,-256\"/>\n",
       "<text text-anchor=\"middle\" x=\"44.96\" y=\"-242.4\" font-family=\"Times,serif\" font-size=\"12.00\">a</text>\n",
       "<text text-anchor=\"middle\" x=\"44.96\" y=\"-230.4\" font-family=\"Times,serif\" font-size=\"12.00\"> ()</text>\n",
       "</g>\n",
       "<!-- 112180325008&#45;&gt;112180324752 -->\n",
       "<g id=\"edge4\" class=\"edge\">\n",
       "<title>112180325008&#45;&gt;112180324752</title>\n",
       "<path fill=\"none\" stroke=\"black\" d=\"M44.96,-223.86C44.96,-216.13 44.96,-206.63 44.96,-198.37\"/>\n",
       "<polygon fill=\"black\" stroke=\"black\" points=\"48.46,-198.15 44.96,-188.15 41.46,-198.15 48.46,-198.15\"/>\n",
       "</g>\n",
       "<!-- 112180324816 -->\n",
       "<g id=\"node6\" class=\"node\">\n",
       "<title>112180324816</title>\n",
       "<polygon fill=\"lightgrey\" stroke=\"black\" points=\"197.88,-188 108.04,-188 108.04,-168 197.88,-168 197.88,-188\"/>\n",
       "<text text-anchor=\"middle\" x=\"152.96\" y=\"-174.4\" font-family=\"Times,serif\" font-size=\"12.00\">ViewBackward</text>\n",
       "</g>\n",
       "<!-- 112180324816&#45;&gt;112180234512 -->\n",
       "<g id=\"edge5\" class=\"edge\">\n",
       "<title>112180324816&#45;&gt;112180234512</title>\n",
       "<path fill=\"none\" stroke=\"black\" d=\"M143.55,-167.59C135.81,-159.85 124.65,-148.69 115.43,-139.47\"/>\n",
       "<polygon fill=\"black\" stroke=\"black\" points=\"117.81,-136.89 108.26,-132.3 112.86,-141.84 117.81,-136.89\"/>\n",
       "</g>\n",
       "<!-- 112180325072 -->\n",
       "<g id=\"node7\" class=\"node\">\n",
       "<title>112180325072</title>\n",
       "<polygon fill=\"lightblue\" stroke=\"black\" points=\"179.96,-256 125.96,-256 125.96,-224 179.96,-224 179.96,-256\"/>\n",
       "<text text-anchor=\"middle\" x=\"152.96\" y=\"-242.4\" font-family=\"Times,serif\" font-size=\"12.00\">b</text>\n",
       "<text text-anchor=\"middle\" x=\"152.96\" y=\"-230.4\" font-family=\"Times,serif\" font-size=\"12.00\"> ()</text>\n",
       "</g>\n",
       "<!-- 112180325072&#45;&gt;112180324816 -->\n",
       "<g id=\"edge6\" class=\"edge\">\n",
       "<title>112180325072&#45;&gt;112180324816</title>\n",
       "<path fill=\"none\" stroke=\"black\" d=\"M152.96,-223.86C152.96,-216.13 152.96,-206.63 152.96,-198.37\"/>\n",
       "<polygon fill=\"black\" stroke=\"black\" points=\"156.46,-198.15 152.96,-188.15 149.46,-198.15 156.46,-198.15\"/>\n",
       "</g>\n",
       "<!-- 112180684512 -->\n",
       "<g id=\"node8\" class=\"node\">\n",
       "<title>112180684512</title>\n",
       "<polygon fill=\"orange\" stroke=\"black\" points=\"211.96,-132 157.96,-132 157.96,-112 211.96,-112 211.96,-132\"/>\n",
       "<text text-anchor=\"middle\" x=\"184.96\" y=\"-118.4\" font-family=\"Times,serif\" font-size=\"12.00\">(3)</text>\n",
       "</g>\n",
       "<!-- 112180684512&#45;&gt;4718025808 -->\n",
       "<g id=\"edge7\" class=\"edge\">\n",
       "<title>112180684512&#45;&gt;4718025808</title>\n",
       "<path fill=\"none\" stroke=\"black\" d=\"M191.23,-111.59C196.14,-104.24 203.1,-93.8 209.05,-84.87\"/>\n",
       "<polygon fill=\"black\" stroke=\"black\" points=\"212.13,-86.56 214.76,-76.3 206.3,-82.68 212.13,-86.56\"/>\n",
       "</g>\n",
       "<!-- 112180684672 -->\n",
       "<g id=\"node9\" class=\"node\">\n",
       "<title>112180684672</title>\n",
       "<polygon fill=\"orange\" stroke=\"black\" points=\"283.96,-132 229.96,-132 229.96,-112 283.96,-112 283.96,-132\"/>\n",
       "<text text-anchor=\"middle\" x=\"256.96\" y=\"-118.4\" font-family=\"Times,serif\" font-size=\"12.00\">(2)</text>\n",
       "</g>\n",
       "<!-- 112180684672&#45;&gt;4718025808 -->\n",
       "<g id=\"edge8\" class=\"edge\">\n",
       "<title>112180684672&#45;&gt;4718025808</title>\n",
       "<path fill=\"none\" stroke=\"black\" d=\"M250.69,-111.59C245.79,-104.24 238.82,-93.8 232.87,-84.87\"/>\n",
       "<polygon fill=\"black\" stroke=\"black\" points=\"235.62,-82.68 227.16,-76.3 229.79,-86.56 235.62,-82.68\"/>\n",
       "</g>\n",
       "<!-- 112180684752 -->\n",
       "<g id=\"node10\" class=\"node\">\n",
       "<title>112180684752</title>\n",
       "<polygon fill=\"orange\" stroke=\"black\" points=\"355.96,-132 301.96,-132 301.96,-112 355.96,-112 355.96,-132\"/>\n",
       "<text text-anchor=\"middle\" x=\"328.96\" y=\"-118.4\" font-family=\"Times,serif\" font-size=\"12.00\">(3)</text>\n",
       "</g>\n",
       "<!-- 112180684752&#45;&gt;4718025808 -->\n",
       "<g id=\"edge9\" class=\"edge\">\n",
       "<title>112180684752&#45;&gt;4718025808</title>\n",
       "<path fill=\"none\" stroke=\"black\" d=\"M310.64,-111.84C293.47,-103.25 267.59,-90.31 248.04,-80.54\"/>\n",
       "<polygon fill=\"black\" stroke=\"black\" points=\"249.52,-77.37 239.01,-76.03 246.39,-83.63 249.52,-77.37\"/>\n",
       "</g>\n",
       "</g>\n",
       "</svg>\n"
      ],
      "text/plain": [
       "<graphviz.dot.Digraph at 0x1a1e708750>"
      ]
     },
     "execution_count": 9,
     "metadata": {},
     "output_type": "execute_result"
    }
   ],
   "source": [
    "from torchviz import make_dot\n",
    "\n",
    "make_dot(yhat[-1], params=dict(diffeq.named_parameters()))"
   ]
  },
  {
   "cell_type": "markdown",
   "metadata": {},
   "source": [
    "# More advanced"
   ]
  },
  {
   "cell_type": "markdown",
   "metadata": {},
   "source": [
    "#### Apply adjoint method"
   ]
  },
  {
   "cell_type": "code",
   "execution_count": 4,
   "metadata": {},
   "outputs": [],
   "source": [
    "mod = mini_net() # instantiate mini neural net\n",
    "# fun = ode_torch # Function representing forward dynamics (i.e. dz/dt)\n",
    "fun = mod\n",
    "\n",
    "torch.manual_seed(0)\n",
    "y = torch.randn(1) # ground truth\n",
    "\n",
    "# Parameters for Runge-Kutta\n",
    "t_span = [0.,5.]\n",
    "h = .5\n",
    "\n",
    "# Forward pass\n",
    "y_forward, t_forward = rk(fun=fun, t_span=t_span, y0=torch.tensor([[0.]]), h=h)\n",
    "\n",
    "# Compute loss and adjoint at t=t_1\n",
    "z1 = y_forward[-1,:,:].detach().requires_grad_(True)\n",
    "L = torch.mean((y-z1)**2) # compute loss\n",
    "L.backward() # compute adjoint at t = t_1\n",
    "\n",
    "# Backward pass (using adjoint)\n",
    "dyn = aug_dynamics(model=mod)\n",
    "y,t = rk(fun=dyn.forward, t_span=t_span[::-1], y0=torch.cat([z1.grad, z1.detach()],dim=0), h=-h)"
   ]
  },
  {
   "cell_type": "code",
   "execution_count": 5,
   "metadata": {},
   "outputs": [
    {
     "data": {
      "image/png": "[encoded data removed]",
      "text/plain": [
       "<Figure size 432x288 with 1 Axes>"
      ]
     },
     "metadata": {
      "needs_background": "light"
     },
     "output_type": "display_data"
    }
   ],
   "source": [
    "fig,ax=plt.subplots()\n",
    "ax.plot(t_forward.numpy(),y_forward[:,0,0].detach().numpy(), label='z(t) – forward', color='g',marker='o', linestyle='-')\n",
    "ax.plot(t.numpy(),y[:,1,0].detach().numpy(), label='z(t) – backward', color='r',marker='o', linestyle=':')\n",
    "ax.plot(t.numpy(),y[:,0,0].detach().numpy(), label='a(t)', marker='o', linestyle='--')\n",
    "ax.set_xlabel('t')\n",
    "ax.set_ylabel('y')\n",
    "ax.legend()\n",
    "plt.show()"
   ]
  },
  {
   "cell_type": "markdown",
   "metadata": {},
   "source": [
    "## Augmented dynamics with theta"
   ]
  },
  {
   "cell_type": "markdown",
   "metadata": {},
   "source": [
    "#### Next solve for derivative of loss with respect to parameters"
   ]
  },
  {
   "cell_type": "code",
   "execution_count": 6,
   "metadata": {},
   "outputs": [
    {
     "data": {
      "image/png": "[encoded data removed]",
      "text/plain": [
       "<Figure size 432x288 with 1 Axes>"
      ]
     },
     "metadata": {
      "needs_background": "light"
     },
     "output_type": "display_data"
    }
   ],
   "source": [
    "torch.manual_seed(0) # set random seed\n",
    "\n",
    "mod = ode_forward() # create model\n",
    "y, _ = rk(fun=ode_torch, t_span=t_span, y0=torch.tensor([[0.]]), h=h)\n",
    "y = y[-1] # ground truth\n",
    "\n",
    "# Parameters for Runge-Kutta\n",
    "t_span = [0.,5.]\n",
    "h = .5\n",
    "\n",
    "# Forward pass\n",
    "y_forward, t_forward = rk(fun=mod, t_span=t_span, y0=torch.tensor([[0.]]), h=h)\n",
    "\n",
    "# Compute loss and adjoint at t=t_1\n",
    "z1 = y_forward[-1,:,:].detach().requires_grad_(True)\n",
    "loss = torch.mean((y-z1)**2) # compute loss (MSE)\n",
    "loss.backward() # compute adjoint at t = t_1\n",
    "\n",
    "# Backward pass (using adjoint)\n",
    "dyn = aug_dynamics(model=mod)\n",
    "yhat,t = rk(fun=dyn.forward, t_span=t_span[::-1], y0=torch.cat([z1.grad, z1.detach()],dim=0), h=-h)\n",
    "\n",
    "fig,ax=plt.subplots()\n",
    "ax.plot(t_forward.numpy(),y_forward[:,0,0].detach().numpy(), label='z(t) – forward', color='g',marker='o', linestyle='-')\n",
    "ax.plot(t.numpy(),yhat[:,1,0].detach().numpy(), label='z(t) – backward', color='r',marker='o', linestyle=':')\n",
    "ax.plot(t.numpy(),yhat[:,0,0].detach().numpy(), label='a(t)', marker='o', linestyle='--')\n",
    "ax.set_xlabel('t')\n",
    "ax.set_ylabel('y')\n",
    "ax.legend()\n",
    "plt.show()"
   ]
  },
  {
   "cell_type": "markdown",
   "metadata": {},
   "source": [
    "## Train the model"
   ]
  },
  {
   "cell_type": "code",
   "execution_count": 77,
   "metadata": {},
   "outputs": [
    {
     "name": "stdout",
     "output_type": "stream",
     "text": [
      "Epoch 50 loss: 3614.391357421875\n",
      "57.65756607055664\n",
      "Epoch 100 loss: 4922.38330078125\n",
      "67.69745635986328\n"
     ]
    }
   ],
   "source": [
    "torch.manual_seed(0) # set random seed\n",
    "\n",
    "# Ground truth (differential equation)\n",
    "y, _ = rk(fun=ode_torch, t_span=t_span, y0=torch.tensor([[0.]]), h=h)\n",
    "y = y[-1] # ground truth\n",
    "\n",
    "mod = ode_forward() # create model\n",
    "# optimizer = torch.optim.SGD(mod.parameters(), lr=.0000000001)\n",
    "optimizer = torch.optim.Adam(mod.parameters())\n",
    "\n",
    "n_epochs = 100\n",
    "\n",
    "loss_tracker = []\n",
    "for epoch in range(1, n_epochs+1):\n",
    "#     print(torch.cat(list(mod.parameters())).detach())\n",
    "\n",
    "    # Parameters for Runge-Kutta\n",
    "    t_span = [0.,5.]\n",
    "    h = .5\n",
    "\n",
    "    mod.zero_grad()\n",
    "    with torch.no_grad():\n",
    "        # Forward pass\n",
    "        y_forward, t_forward = rk(fun=mod, t_span=t_span, y0=torch.tensor([[0.]]), h=h)\n",
    "\n",
    "    # Compute loss and adjoint at t=t_1\n",
    "    z1 = y_forward[-1,:,:].requires_grad_(True)\n",
    "    loss = torch.mean((y-z1)**2) # compute loss\n",
    "    loss.backward()\n",
    "    loss_tracker.append(loss.item())\n",
    "    \n",
    "    # Backward pass (using adjoint)\n",
    "    dyn = aug_dynamics(model=mod)\n",
    "    yhat,t = rk(fun=dyn.forward, t_span=t_span[::-1], y0=torch.cat([z1.grad, z1.detach()],dim=0), h=-h)\n",
    "    \n",
    "    # Update parameters\n",
    "    optimizer.step()\n",
    "    \n",
    "#     if (epoch%10 == 0):\n",
    "#         print('Epoch {} loss: {}'.format(epoch, loss))\n",
    "        \n",
    "    if (epoch%50 == 0):\n",
    "        print('Epoch {} loss: {}'.format(epoch, loss))\n",
    "        print(z1.item())\n",
    "#         for p in mod.parameters():\n",
    "#             print(p.grad)"
   ]
  },
  {
   "cell_type": "markdown",
   "metadata": {},
   "source": [
    "### Compare gradient to direct backpropogation"
   ]
  },
  {
   "cell_type": "markdown",
   "metadata": {},
   "source": [
    "#### Using adjoint"
   ]
  },
  {
   "cell_type": "code",
   "execution_count": 78,
   "metadata": {},
   "outputs": [
    {
     "name": "stdout",
     "output_type": "stream",
     "text": [
      "tensor([-9623.9805])\n",
      "tensor([70705.2734])\n",
      "tensor([3762.6951])\n",
      "tensor([-42525.0820])\n",
      "tensor([2883.3574])\n",
      "tensor([-11598.2012])\n"
     ]
    }
   ],
   "source": [
    "torch.manual_seed(0) # set random seed\n",
    "\n",
    "# Ground truth (differential equation)\n",
    "y, _ = rk(fun=ode_torch, t_span=t_span, y0=torch.tensor([[0.]]), h=h)\n",
    "y = y[-1] # ground truth\n",
    "\n",
    "mod = ode_forward() # create model\n",
    "\n",
    "# Parameters for Runge-Kutta\n",
    "t_span = [0.,5.]\n",
    "h = .5\n",
    "\n",
    "mod.zero_grad()\n",
    "with torch.no_grad():\n",
    "    y_forward, t_forward = rk(fun=mod, t_span=t_span, y0=torch.tensor([[0.]]), h=h)\n",
    "\n",
    "# Compute loss and adjoint at t=t_1\n",
    "z1 = y_forward[-1,:,:].requires_grad_(True)\n",
    "loss = torch.mean((y-z1)**2) # compute loss\n",
    "loss.backward() # compute adjoint at t = t_1\n",
    "    \n",
    "# Backward pass (using adjoint)\n",
    "dyn = aug_dynamics(model=mod)\n",
    "yhat,t = rk(fun=dyn.forward, t_span=t_span[::-1], y0=torch.cat([z1.grad, z1.detach()],dim=0), h=-h)\n",
    "\n",
    "for p in mod.parameters():\n",
    "    print(p.grad)"
   ]
  },
  {
   "cell_type": "markdown",
   "metadata": {},
   "source": [
    "#### Backprop"
   ]
  },
  {
   "cell_type": "code",
   "execution_count": 79,
   "metadata": {},
   "outputs": [
    {
     "name": "stdout",
     "output_type": "stream",
     "text": [
      "tensor([1331.6857])\n",
      "tensor([-9138.8701])\n",
      "tensor([-562.6266])\n",
      "tensor([5156.9263])\n",
      "tensor([-397.1588])\n",
      "tensor([1452.3306])\n"
     ]
    }
   ],
   "source": [
    "torch.manual_seed(0) # set random seed\n",
    "mod2 = ode_forward() # create model\n",
    "\n",
    "mod2.zero_grad()\n",
    "# with torch.no_grad():\n",
    "y_forward, t_forward = rk(fun=mod2, t_span=t_span, y0=torch.tensor([[0.]]), h=h) # Forward pass\n",
    "\n",
    "# Compute loss and adjoint at t=t_1\n",
    "z1 = y_forward[-1,:,:]\n",
    "loss = torch.mean((y-z1)**2) # compute loss\n",
    "loss.backward() # compute adjoint at t = t_1\n",
    "\n",
    "for p in mod2.parameters():\n",
    "    print(p.grad)"
   ]
  },
  {
   "cell_type": "markdown",
   "metadata": {},
   "source": [
    "#### Train model with normal backprop"
   ]
  },
  {
   "cell_type": "code",
   "execution_count": 80,
   "metadata": {},
   "outputs": [
    {
     "name": "stdout",
     "output_type": "stream",
     "text": [
      "Epoch 300 loss: 352.6011657714844\n",
      "16.31543731689453\n",
      "Epoch 600 loss: 115.8106918334961\n",
      "8.299297332763672\n",
      "Epoch 900 loss: 37.52947998046875\n",
      "3.6638903617858887\n",
      "Epoch 1200 loss: 9.893463134765625\n",
      "0.6831468343734741\n",
      "Epoch 1500 loss: 1.941942811012268\n",
      "-1.068704605102539\n",
      "Epoch 1800 loss: 0.2643800377845764\n",
      "-1.9480617046356201\n",
      "Epoch 2100 loss: 0.02360745705664158\n",
      "-2.308593511581421\n",
      "Epoch 2400 loss: 0.001303444616496563\n",
      "-2.4261374473571777\n",
      "Epoch 2700 loss: 4.136214920436032e-05\n",
      "-2.4558093547821045\n",
      "Epoch 3000 loss: 6.90376111833757e-07\n",
      "-2.4614098072052\n"
     ]
    }
   ],
   "source": [
    "torch.manual_seed(0) # set random seed\n",
    "n_epochs = 3000\n",
    "\n",
    "mod = ode_forward()\n",
    "optimizer = torch.optim.Adam(mod.parameters())\n",
    "\n",
    "loss_tracker = []\n",
    "for epoch in range(1,n_epochs+1):\n",
    "    \n",
    "    mod.zero_grad()\n",
    "    \n",
    "    y_forward, _ = rk(fun=mod, t_span=t_span, y0=torch.tensor([[0.]]), h=h) # Forward pass\n",
    "    \n",
    "    # Compute loss at t=t_1\n",
    "    z1 = y_forward[-1,:,:]\n",
    "    loss = torch.mean((y-z1)**2) # compute loss\n",
    "    loss.backward() # compute adjoint at t = t_1\n",
    "    loss_tracker.append(loss.item())\n",
    "    \n",
    "    optimizer.step()\n",
    "    \n",
    "    if (epoch%300 == 0):\n",
    "        print('Epoch {} loss: {}'.format(epoch, loss))\n",
    "        print(z1.item())"
   ]
  }
 ],
 "metadata": {
  "kernelspec": {
   "display_name": "mrtl_env",
   "language": "python",
   "name": "mrtl_env"
  },
  "language_info": {
   "codemirror_mode": {
    "name": "ipython",
    "version": 3
   },
   "file_extension": ".py",
   "mimetype": "text/x-python",
   "name": "python",
   "nbconvert_exporter": "python",
   "pygments_lexer": "ipython3",
   "version": "3.7.5"
  }
 },
 "nbformat": 4,
 "nbformat_minor": 2
}
