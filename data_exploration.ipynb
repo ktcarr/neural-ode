{
 "cells": [
  {
   "cell_type": "code",
   "execution_count": 1,
   "metadata": {},
   "outputs": [],
   "source": [
    "import torch\n",
    "import torchvision\n",
    "import numpy as np\n",
    "import matplotlib.pyplot as plt\n",
    "import seaborn as sns\n",
    "sns.set()"
   ]
  },
  {
   "cell_type": "markdown",
   "metadata": {},
   "source": [
    "#### Load MNIST data"
   ]
  },
  {
   "cell_type": "code",
   "execution_count": 2,
   "metadata": {},
   "outputs": [],
   "source": [
    "mnist_train = torchvision.datasets.MNIST(root='data',train=True,download=True)\n",
    "mnist_test = torchvision.datasets.MNIST(root='data',train=False,download=True)"
   ]
  },
  {
   "cell_type": "markdown",
   "metadata": {},
   "source": [
    "#### ODE practice"
   ]
  },
  {
   "cell_type": "markdown",
   "metadata": {},
   "source": [
    "ODE: $ y' - y = -\\frac{1}{2}e^{\\frac{t}{2}}\\text{sin}(5t)+5e^{\\frac{t}{2}}\\text{cos}(5t),~y(0)=0$\n",
    "\n",
    "Solution to ODE: $y(t) = e^{\\frac{t}{2}}\\text{sin}(5t)$"
   ]
  },
  {
   "cell_type": "code",
   "execution_count": 3,
   "metadata": {},
   "outputs": [],
   "source": [
    "# Compute actual solution\n",
    "t = np.linspace(start=0,stop=5, num=10000)\n",
    "y = np.exp(t/2)*np.sin(5*t)"
   ]
  },
  {
   "cell_type": "code",
   "execution_count": 4,
   "metadata": {},
   "outputs": [
    {
     "data": {
      "image/png": "[encoded data removed]",
      "text/plain": [
       "<Figure size 432x288 with 1 Axes>"
      ]
     },
     "metadata": {
      "needs_background": "light"
     },
     "output_type": "display_data"
    }
   ],
   "source": [
    "fig,ax=plt.subplots()\n",
    "ax.plot(t,y)\n",
    "ax.set_xlabel('t')\n",
    "ax.set_ylabel('y')\n",
    "plt.show()"
   ]
  },
  {
   "cell_type": "markdown",
   "metadata": {},
   "source": [
    "#### Implement Euler's method\n",
    "Pseudocode: Given initial value $y_0$, initial time $t_0$, step size $h$\n",
    "- Compute derivative at $t_0$, $\\frac{\\text{d}y}{\\text{d}{t}}\\big|_{t=t_0}$\n",
    "- $y_1 = y_0 + h\\frac{\\text{d}y}{\\text{d}{t}}\\big|_{t=t_0}$\n",
    "- $t_1 = t_0 +h$\n",
    "- $y_0 = y_1$, $t_0=t_1$"
   ]
  },
  {
   "cell_type": "code",
   "execution_count": 5,
   "metadata": {},
   "outputs": [],
   "source": [
    "def euler_method(dy_dt, y0, t0, h, n_steps):\n",
    "    '''Function to compute numerical approximation of ODE. \n",
    "    Args: - dy_dt is a function which takes in y,t and represents the derivative\n",
    "          - y0 and t0 represent the initial value and time, respectively\n",
    "          - h is the step size (fixed, in this case)\n",
    "          - n_steps is the number of steps to take'''\n",
    "    y = [y0]\n",
    "    t = [t0]\n",
    "    for _ in range(n_steps):\n",
    "        m = dy_dt(t0,y0) # compute derivative at t0\n",
    "        y1 = y0 + h*m # approximate next value\n",
    "        t1 = t0 + h\n",
    "        \n",
    "        y.append(y1) # record values\n",
    "        t.append(t1)\n",
    "        \n",
    "        y0 = y1 # update initial value/time\n",
    "        t0 = t1\n",
    "    \n",
    "    return(t, y)\n",
    "\n",
    "def rk4(fun, t_span, y0, h):\n",
    "    '''Runge-Kutta 4th order method\n",
    "        Args: - fun is derivative\n",
    "              - t_span is tuple of start and end time\n",
    "              - y0 is initial condition\n",
    "              - h is step size (fixed in this case)'''\n",
    "    weights = torch.tensor([1/6, 1/3, 1/3, 1/6]).view(-1,1)\n",
    "    n_steps = int((t_span[1]-t_span[0])/h)\n",
    "    all_y = [y0] # set state to initial state\n",
    "    all_t = [t_span[0]]\n",
    "    for _ in range(n_steps):\n",
    "        y = all_y[-1]\n",
    "        t = all_t[-1]\n",
    "        k1 = h * fun(t     , y)\n",
    "        k2 = h * fun(t+.5*h, y+.5*k1)\n",
    "        k3 = h * fun(t+.5*h, y+.5*k2)\n",
    "        k4 = h * fun(t+   h, y+   k3)\n",
    "        all_y.append(y + torch.sum(weights * torch.cat([k1,k2,k3,k4], dim=0)))\n",
    "        all_t.append(t + h)\n",
    "    return(torch.tensor(all_t),torch.tensor(all_y))\n",
    "\n",
    "def ode1(t,y):\n",
    "    '''Example differential equation\n",
    "    Args: y is initial value\n",
    "          t is time'''\n",
    "    m = y - (1/2) * np.exp(t/2) * np.sin(5*t) + 5*np.exp(t/2)*np.cos(5*t)\n",
    "    return m\n",
    "\n",
    "def ode2(t,y):\n",
    "    '''Example differential equation\n",
    "    Args: y is initial value\n",
    "          t is time'''\n",
    "    m = y - (1/2) * np.exp(t/2) * np.sin(5*t) + 5*np.exp(t/2)*np.cos(5*t)\n",
    "    return -m"
   ]
  },
  {
   "cell_type": "markdown",
   "metadata": {},
   "source": [
    "#### Back to the example:\n",
    "ODE: $ y' - y = -\\frac{1}{2}e^{\\frac{t}{2}}\\text{sin}(5t)+5e^{\\frac{t}{2}}\\text{cos}(5t),~y(0)=0$"
   ]
  },
  {
   "cell_type": "code",
   "execution_count": 10,
   "metadata": {},
   "outputs": [],
   "source": [
    "from scipy.integrate import solve_ivp\n",
    "\n",
    "# Compute actual solution\n",
    "t = np.linspace(start=0,stop=5, num=10000)\n",
    "y = np.exp(t/2)*np.sin(5*t)\n",
    "\n",
    "# Compute approximate solution\n",
    "t_hat, y_hat = euler_method(ode1, 0, 0, h=.05, n_steps = 100) # Euler\n",
    "t_rk , y_rk  = rk4(fun=ode1, y0=torch.tensor([[0.]]), t_span=(0,5), h=.25) # runge-kutta\n",
    "t_rk2 , y_rk2  = rk4(fun=ode1, y0=torch.tensor([[y_rk[-1]]]), t_span=(5,0), h=-.5) # reverse\n",
    "res = solve_ivp(fun=ode1, t_span = (0.,5.), y0=np.array([0])) # scipy"
   ]
  },
  {
   "cell_type": "code",
   "execution_count": 23,
   "metadata": {},
   "outputs": [
    {
     "data": {
      "image/png": "[encoded data removed]",
      "text/plain": [
       "<Figure size 432x288 with 1 Axes>"
      ]
     },
     "metadata": {
      "needs_background": "light"
     },
     "output_type": "display_data"
    }
   ],
   "source": [
    "fig,ax=plt.subplots()\n",
    "ax.plot(t,y, label='Actual', color='k', linewidth=1)\n",
    "ax.plot(t_hat,y_hat, 'ro', label='Euler', markersize=5, marker='^')\n",
    "# ax.plot(res.t,res.y.squeeze(0), 'ro', label='scipy')\n",
    "ax.plot(t_rk.numpy(),y_rk.numpy(), 'go', label='Runge-Kutta')\n",
    "# ax.plot(t_rk2.numpy(),y_rk2.numpy(), color='purple', marker='o', label='reverse')\n",
    "ax.set_xlabel('t')\n",
    "ax.set_ylabel('y')\n",
    "ax.legend()\n",
    "fig.savefig('figs/ode_example.png',dpi=150)\n",
    "plt.show()"
   ]
  },
  {
   "cell_type": "markdown",
   "metadata": {},
   "source": [
    "ODE: $ y' - y = -\\frac{1}{2}e^{\\frac{t}{2}}\\text{sin}(5t)+5e^{\\frac{t}{2}}\\text{cos}(5t),~y(0)=0$"
   ]
  },
  {
   "cell_type": "markdown",
   "metadata": {},
   "source": [
    "#### Adjoint sensitivity method"
   ]
  },
  {
   "cell_type": "markdown",
   "metadata": {},
   "source": [
    "Want to find: $\\frac{dL}{d\\theta}$ (derivative of loss with respect to parameters)\n",
    "\n",
    "First step: find $\\frac{\\partial L}{\\partial \\textbf{z}(t)}$\n",
    "\n",
    "Let $\\textbf{a}(t) = \\frac{\\partial L}{\\partial \\textbf{z}(t)}$\n",
    "\n",
    "$\\frac{d\\textbf{a}(t)}{dt} = -\\textbf{a}(t)^\\text{T}\\frac{\\partial f(\\textbf{z}(t),t,\\theta)}{\\partial \\textbf{z}}$\n",
    "\n",
    "Then use the ODE solver to compute $\\textbf{a}(t_0) = \\frac{\\partial L}{\\partial \\textbf{z}(t_0)}$\n",
    "\n",
    "To do this, start from the initial value $\\textbf{a}(t_1) = \\frac{\\partial L}{\\partial \\textbf{z}(t_1)}$"
   ]
  },
  {
   "cell_type": "markdown",
   "metadata": {},
   "source": [
    "#### Integration practice"
   ]
  },
  {
   "cell_type": "markdown",
   "metadata": {},
   "source": [
    "<!-- $\\int^{t_0+\\epsilon}_{t_0}{3x^2}dx = x^3 \\big|^{t_0+\\epsilon}_{t_0} = (t_0+\\epsilon)^3 - t_0^3$ -->\n",
    "\n",
    "<!-- $\\frac{d}{dt}\\int^{t_0+\\epsilon}_{t_0}{3x^2}dx = \\frac{d}{dt}(t_0+\\epsilon)^3 - t_0^3 = 3(t_0+\\epsilon)^2 - 3t_0^2$ -->\n",
    "\n",
    "\n",
    "<!-- $\\int^{t_0+\\epsilon}_{t_0}{f(t)}dt$ -->\n",
    "\n",
    "\n",
    "<!-- $\\int^{t_0+\\epsilon}_{t_0}{f(z(t))}dt$ -->\n",
    "\n",
    "$$f(x) = \\int^{x+\\epsilon}_{x}{3x^2}dx = \\int^{x+\\epsilon}_a{3x^2}dx - \\int^{x}_a{3x^2}dx$$\n",
    "Then $\\frac{df(x)}{dx} = \\frac{d}{dx}\\int^{x+\\epsilon}_{x}{3x^2}dx = \\frac{d}{dx}\\int^{x+\\epsilon}_a{3x^2}dx - \\frac{d}{dx}\\int^{x}_a{3x^2}dx = 3(x+\\epsilon)^2 - 3x^2$\n",
    "\n",
    "$$ 3(x+3)^2 - 3x^2 = 3\\big((x+3)^2-x^2\\big) = 3(x^2+6x+9-x^2)=3(6x+9)=9(2x+3)$$\n",
    "\n",
    "$$\\int^{t+\\epsilon}_t f(\\textbf{z}(t),t,\\theta)dt + \\textbf{z}(t) $$\n",
    "\n",
    "$$\\frac{d}{dt}\\int^{t+\\epsilon}_t f(\\textbf{z}(t),t,\\theta)dt + \\textbf{z}(t) = f(\\textbf{z}(t+\\epsilon),t+\\epsilon,\\theta) - f(\\textbf{z}(t),t,\\theta)$$"
   ]
  },
  {
   "cell_type": "code",
   "execution_count": 71,
   "metadata": {},
   "outputs": [],
   "source": [
    "# backprop practice\n",
    "import torch\n",
    "\n",
    "# Generate data\n",
    "x = torch.randn(1,2)\n",
    "W1 = torch.randn(2,3, requires_grad=True)\n",
    "W2 = torch.randn(3,1, requires_grad=True)\n",
    "y = torch.randn(1)\n",
    "\n",
    "# Forward pass\n",
    "h = x @ W1\n",
    "y_hat = h @ W2\n",
    "L = (y-y_hat)**2\n",
    "\n",
    "L.backward() # backward pass\n",
    "\n",
    "# Compute gradients manually\n",
    "dL_dyhat = -2*(y-y_hat)\n",
    "dyhat_dW2 = h.transpose(0,1)\n",
    "dL_dW2 = dL_dyhat * dyhat_dW2\n",
    "\n",
    "dyhat_dh = W2.transpose(0,1)\n",
    "dh_dW1 = torch.tensor([[x[:,0], 0., 0.,  x[:,1],  0., 0.],\n",
    "                       [0.  , x[:,0], 0. ,  0., x[:,1], 0.],\n",
    "                       [0.  ,  0. , x[:,0], 0. ,  0. , x[:,1]]])\n",
    "dL_dW1 = dL_dyhat * dyhat_dh @ dh_dW1\n",
    "dL_dW1 = dL_dW1.view(W1.shape)"
   ]
  },
  {
   "cell_type": "code",
   "execution_count": 72,
   "metadata": {},
   "outputs": [
    {
     "name": "stdout",
     "output_type": "stream",
     "text": [
      "tensor([[-0.6838, -1.6719,  0.0716],\n",
      "        [-0.4910, -1.2005,  0.0514]], grad_fn=<ViewBackward>)\n",
      "tensor([[-0.6838, -1.6719,  0.0716],\n",
      "        [-0.4910, -1.2005,  0.0514]])\n",
      "\n",
      "tensor([[-1.4021],\n",
      "        [ 0.1738],\n",
      "        [ 0.1192]], grad_fn=<MulBackward0>)\n",
      "tensor([[-1.4021],\n",
      "        [ 0.1738],\n",
      "        [ 0.1192]])\n"
     ]
    }
   ],
   "source": [
    "print(dL_dW1)\n",
    "print(W1.grad)\n",
    "print()\n",
    "print(dL_dW2)\n",
    "print(W2.grad)"
   ]
  },
  {
   "cell_type": "markdown",
   "metadata": {},
   "source": [
    "#### Adjoint method practice"
   ]
  },
  {
   "cell_type": "markdown",
   "metadata": {},
   "source": [
    "Define simple network with Runge-Kutta solver, and use adjoint to backpropagate through"
   ]
  },
  {
   "cell_type": "code",
   "execution_count": 78,
   "metadata": {
    "collapsed": true
   },
   "outputs": [
    {
     "name": "stdout",
     "output_type": "stream",
     "text": [
      "tensor([-1.3845], grad_fn=<MulBackward0>)\n",
      "tensor([-1.3845])\n"
     ]
    }
   ],
   "source": [
    "import torch\n",
    "z1 = torch.randn(1)\n",
    "A = torch.randn(1, requires_grad=True)\n",
    "B = torch.randn(1, requires_grad=True)\n",
    "\n",
    "z2 = z1*A\n",
    "z3 = z2*A\n",
    "L = (z3-B)**2\n",
    "L.backward()\n",
    "\n",
    "print(4*z1*A*(z1*A**2 - B))\n",
    "print(A.grad)"
   ]
  },
  {
   "cell_type": "code",
   "execution_count": 3,
   "metadata": {},
   "outputs": [
    {
     "name": "stdout",
     "output_type": "stream",
     "text": [
      "tensor([0.2019])\n",
      "tensor([0.2019], grad_fn=<DivBackward0>)\n"
     ]
    }
   ],
   "source": [
    "def sig(x):\n",
    "    return(torch.exp(x) / (torch.exp(x) + 1))\n",
    "def sig_grad(x):\n",
    "    return (torch.exp(x) * (torch.exp(x) + 1) - torch.exp(2*x)) / (torch.exp(x)+1)**2\n",
    "\n",
    "x = torch.randn(1, requires_grad=True)\n",
    "y = sig(x)\n",
    "y.backward()\n",
    "\n",
    "print(x.grad)\n",
    "print(sig_grad(x))"
   ]
  },
  {
   "cell_type": "code",
   "execution_count": 154,
   "metadata": {
    "collapsed": true
   },
   "outputs": [],
   "source": [
    "x = torch.randn(2)\n",
    "W = torch.randn(2,2,requires_grad=True)\n",
    "y = torch.randn(2)\n",
    "\n",
    "yhat = x@W\n",
    "L = torch.sum(yhat)\n",
    "L.backward()"
   ]
  },
  {
   "cell_type": "code",
   "execution_count": 159,
   "metadata": {
    "collapsed": true
   },
   "outputs": [
    {
     "name": "stdout",
     "output_type": "stream",
     "text": [
      "tensor([[[-2.1595,  0.0000],\n",
      "         [ 1.9961,  0.0000]],\n",
      "\n",
      "        [[ 0.0000, -2.1595],\n",
      "         [ 0.0000,  1.9961]]])\n",
      "tensor([[-2.1595,  0.0000,  1.9961,  0.0000],\n",
      "        [ 0.0000, -2.1595,  0.0000,  1.9961]])\n",
      "\n",
      "tensor([[-2.1595, -2.1595],\n",
      "        [ 1.9961,  1.9961]])\n",
      "\n",
      "None\n"
     ]
    }
   ],
   "source": [
    "# print(W.grad)\n",
    "grad_f = torch.tensor([[[x[0],0],[x[1],0]],[[0,x[0]],[0,x[1]]]])\n",
    "grad_L = (torch.tensor([[1.,1.]]) @ grad_f.view(grad_f.shape[0],-1)).view(2,2)\n",
    "\n",
    "print(grad_f)\n",
    "print(grad_f.view(grad_f.shape[0],-1))\n",
    "print()\n",
    "print(grad_L)\n",
    "print()\n",
    "print(W.grad)"
   ]
  },
  {
   "cell_type": "code",
   "execution_count": 160,
   "metadata": {
    "collapsed": true
   },
   "outputs": [
    {
     "name": "stdout",
     "output_type": "stream",
     "text": [
      "tensor([[[-2.1595,  0.0000],\n",
      "         [ 1.9961,  0.0000]],\n",
      "\n",
      "        [[ 0.0000, -2.1595],\n",
      "         [ 0.0000,  1.9961]]])\n",
      "tensor([[[-2.1595,  0.0000]],\n",
      "\n",
      "        [[ 0.0000, -2.1595]]])\n"
     ]
    }
   ],
   "source": [
    "print(torch.stack([torch.cat([x.view(2,1), torch.zeros(2,1)], dim=1),\n",
    "             torch.cat([torch.zeros(2,1), x.view(2,1)], dim=1)], dim=0))\n",
    "print(torch.stack([torch.cat([x.view(2,1), torch.zeros(2,1)], dim=1),\n",
    "             torch.cat([torch.zeros(2,1), x.view(2,1)], dim=1)], dim=0)[:,:1,:])"
   ]
  },
  {
   "cell_type": "markdown",
   "metadata": {},
   "source": [
    "# Residual block"
   ]
  },
  {
   "cell_type": "code",
   "execution_count": 46,
   "metadata": {},
   "outputs": [],
   "source": [
    "x = torch.randn(2)\n",
    "W = torch.randn(2,2,requires_grad=True)\n",
    "y = torch.randn(2)\n",
    "\n",
    "yhat = sig(x@W) + x\n",
    "L = torch.sum((yhat-y)**2) / 2\n",
    "L.backward()"
   ]
  },
  {
   "cell_type": "code",
   "execution_count": 47,
   "metadata": {},
   "outputs": [],
   "source": [
    "# Compute partial derivatives manually\n",
    "dL_dyhat = yhat-y\n",
    "dsig_dz = sig_grad(x@W)\n",
    "dz_dW = torch.stack([torch.cat([x.view(2,1), torch.zeros(2,1)], dim=1),\n",
    "             torch.cat([torch.zeros(2,1), x.view(2,1)], dim=1)], dim=0)\n",
    "# Gradient of loss with respect to W\n",
    "grad = (dL_dyhat @ (dsig_dz.view(-1,1,1) * dz_dW).view(dL_dyhat.shape[-1], -1)).view(W.shape)"
   ]
  },
  {
   "cell_type": "code",
   "execution_count": 50,
   "metadata": {},
   "outputs": [
    {
     "name": "stdout",
     "output_type": "stream",
     "text": [
      "Manually computed gradient:\n",
      "tensor([[0.4135, 0.2827],\n",
      "        [0.2311, 0.1580]], grad_fn=<ViewBackward>)\n",
      "\n",
      "Torch gradient:\n",
      "tensor([[0.4135, 0.2827],\n",
      "        [0.2311, 0.1580]])\n"
     ]
    }
   ],
   "source": [
    "print('Manually computed gradient:')\n",
    "print(grad)\n",
    "\n",
    "print('\\nTorch gradient:')\n",
    "print(W.grad)"
   ]
  },
  {
   "cell_type": "markdown",
   "metadata": {},
   "source": [
    "#### Try to compute gradient using adjoint method for simple ODE"
   ]
  },
  {
   "cell_type": "code",
   "execution_count": 82,
   "metadata": {},
   "outputs": [
    {
     "name": "stdout",
     "output_type": "stream",
     "text": [
      "tensor([-1.5325])\n",
      "tensor([-0.8330], grad_fn=<MulBackward0>)\n",
      "\n",
      "tensor([1.8453])\n",
      "tensor([1.5044], grad_fn=<PowBackward0>)\n"
     ]
    }
   ],
   "source": [
    "A = torch.randn(1, requires_grad=True)\n",
    "x = torch.randn(1, requires_grad=True)\n",
    "def f(x): return A*x + x\n",
    "yhat = f(f(f(x)))\n",
    "\n",
    "yhat.backward()\n",
    "print(A.grad)\n",
    "print(2*f(x))\n",
    "\n",
    "print()\n",
    "print(x.grad)\n",
    "print((A+1)**2)"
   ]
  },
  {
   "cell_type": "code",
   "execution_count": 103,
   "metadata": {},
   "outputs": [
    {
     "name": "stdout",
     "output_type": "stream",
     "text": [
      "tensor([-0.7406])\n",
      "tensor([-0.7406], grad_fn=<MulBackward0>)\n"
     ]
    }
   ],
   "source": [
    "def f(x): return A*x\n",
    "\n",
    "A = torch.randn(1, requires_grad=True)\n",
    "x = torch.randn(1, requires_grad=True)\n",
    "yhat = f(f(x))\n",
    "\n",
    "yhat.backward()\n",
    "\n",
    "print(A.grad)\n",
    "print(2*A*x)\n"
   ]
  },
  {
   "cell_type": "markdown",
   "metadata": {},
   "source": [
    "#### Vector-jacobian product example"
   ]
  },
  {
   "cell_type": "code",
   "execution_count": 29,
   "metadata": {},
   "outputs": [
    {
     "name": "stdout",
     "output_type": "stream",
     "text": [
      "tensor([[5.],\n",
      "        [6.]])\n"
     ]
    }
   ],
   "source": [
    "# Vector-jacobian product (\"vjp\")\n",
    "W = torch.tensor([[1.,2.],[3.,4.]])\n",
    "b = 3\n",
    "x = torch.tensor([[5.],[7.]], requires_grad=True)\n",
    "a = torch.tensor([[-1.],[2.]])\n",
    "y = W @ x + b\n",
    "\n",
    "y.backward(a) # get VJP: vector is a, jacobian is dy/dx\n",
    "\n",
    "print(x.grad)"
   ]
  },
  {
   "cell_type": "markdown",
   "metadata": {},
   "source": [
    "### Implement adjoint method and compare to regular"
   ]
  },
  {
   "cell_type": "code",
   "execution_count": 105,
   "metadata": {},
   "outputs": [],
   "source": [
    "import torch.nn as nn\n",
    "import torch.nn.functional as F\n",
    "\n",
    "class mini_net(nn.Module):\n",
    "    \n",
    "    def __init__(self, W=torch.randn(1, requires_grad=True)):\n",
    "        super(mini_net, self).__init__()\n",
    "        self.W = W\n",
    "        \n",
    "    def f(self, t, y):\n",
    "        # This is dz/dt (change in hidden state with respect to time)\n",
    "        return(sig(self.W * y))\n",
    "    \n",
    "def sig(x):\n",
    "    return(torch.exp(x) / (torch.exp(x) + 1))\n",
    "\n",
    "# Def function for backward pass\n",
    "def ode_vjp(fun, a, z, t):\n",
    "    # Compute vector-jacobian product (vjp) of a(t) and df/dz\n",
    "    # fun is function of z (hidden state) and t (time)\n",
    "    out = fun(t, z) # forward pass\n",
    "    out.backward(a) # compute vjp\n",
    "    return(z.grad)\n",
    "\n",
    "def ode_torch(t,y):\n",
    "    '''Example differential equation\n",
    "    Args: y is initial value\n",
    "          t is time'''\n",
    "    t = torch.tensor(t)\n",
    "    m = y - 1/2 * torch.exp(t/2) * torch.sin(5*t) + 5*torch.exp(t/2)*torch.cos(5*t)\n",
    "    return m\n",
    "\n",
    "def rk_adjoint(fun, t_span, y0, h):\n",
    "    '''Runge-Kutta 4th order method\n",
    "        Args: - fun is derivative\n",
    "              - t_span is tuple of start and end time\n",
    "              - y0 is initial condition\n",
    "              - h is step size (fixed in this case)'''\n",
    "    w = torch.tensor([1/6, 1/3, 1/3, 1/6]) # weights\n",
    "    w = w.expand(*y0.shape,4).permute(2,0,1)\n",
    "    n_steps = int((t_span[1]-t_span[0])/h)\n",
    "    y = y0 # set state to initial state\n",
    "    t = t_span[0]\n",
    "    all_y = [y0] # set state to initial state\n",
    "    all_t = [t_span[0]]\n",
    "    for _ in range(n_steps):\n",
    "        k1 = h * fun(t     , y)\n",
    "        k2 = h * fun(t+.5*h, y+.5*k1)\n",
    "        k3 = h * fun(t+.5*h, y+.5*k2)\n",
    "        k4 = h * fun(t+   h, y+   k3)\n",
    "        t = t + h\n",
    "        y = y + torch.sum(w*torch.stack([k1,k2,k3,k4],dim=0), dim=0)\n",
    "        all_y.append(y)\n",
    "        all_t.append(t)\n",
    "    return torch.stack(all_y,dim=0), torch.tensor(all_t)\n",
    "\n",
    "# Augmented dynamics: function applied to concatenation of hidden state and adjoint state\n",
    "def aug_dynamics(t, aug_state, fun=ode_torch):\n",
    "    ''' function is wrapper for ode_vjp\n",
    "    Args: t is time\n",
    "          aug_state is tensor concatenation [a,z], i.e. adjoint state and hidden state\n",
    "          fun is function used to evaluate ode_vjp\n",
    "    Returns: derivatives of adjoint and hidden state (respectively) with respect to time\n",
    "                i.e. torch.concat([da/dt, dz/dt])'''\n",
    "    len_z = int(len(aug_state)/2)\n",
    "    a = aug_state[:1,:].detach()\n",
    "    z = aug_state[1:,:].detach().clone().requires_grad_(True)\n",
    "    return torch.cat([ode_vjp(fun, a, z, t), fun(t,z)], dim=0)"
   ]
  },
  {
   "cell_type": "markdown",
   "metadata": {},
   "source": [
    "### Apply adjoint method"
   ]
  },
  {
   "cell_type": "code",
   "execution_count": 129,
   "metadata": {},
   "outputs": [],
   "source": [
    "torch.manual_seed(0)\n",
    "y = torch.randn(1) # ground truth\n",
    "\n",
    "# Parameters for Runge-Kutta\n",
    "t_span = [0.,5.]\n",
    "h = .5\n",
    "\n",
    "# Forward pass\n",
    "y_forward, t_forward = rk_adjoint(fun=ode_torch, t_span=t_span, y0=torch.tensor([[0.]]), h=h)\n",
    "\n",
    "# Compute loss and adjoint at t=t_1\n",
    "z1 = y_forward[-1,:,:].requires_grad_(True)\n",
    "L = torch.mean((y-z1)**2) # compute loss\n",
    "L.backward() # compute adjoint at t = t_1\n",
    "\n",
    "# Backward pass (using adjoint)\n",
    "y,t = rk_adjoint(fun=aug_dynamics, t_span=t_span[::-1], y0=torch.cat([z1.grad, z1.detach()],dim=0), h=-h)"
   ]
  },
  {
   "cell_type": "code",
   "execution_count": 130,
   "metadata": {},
   "outputs": [
    {
     "data": {
      "image/png": "[encoded data removed]",
      "text/plain": [
       "<Figure size 432x288 with 1 Axes>"
      ]
     },
     "metadata": {
      "needs_background": "light"
     },
     "output_type": "display_data"
    }
   ],
   "source": [
    "fig,ax=plt.subplots()\n",
    "ax.plot(t_forward.numpy(),y_forward[:,0,0].numpy(), label='z(t) – forward', color='g',marker='o', linestyle='-')\n",
    "ax.plot(t.numpy(),y[:,1,0].detach().numpy(), label='z(t) – backward', color='r',marker='o', linestyle=':')\n",
    "ax.plot(t.numpy(),y[:,0,0].detach().numpy(), label='a(t)', marker='o', linestyle='--')\n",
    "ax.set_xlabel('t')\n",
    "ax.set_ylabel('y')\n",
    "ax.legend()\n",
    "plt.show()"
   ]
  }
 ],
 "metadata": {
  "kernelspec": {
   "display_name": "mrtl_env",
   "language": "python",
   "name": "mrtl_env"
  },
  "language_info": {
   "codemirror_mode": {
    "name": "ipython",
    "version": 3
   },
   "file_extension": ".py",
   "mimetype": "text/x-python",
   "name": "python",
   "nbconvert_exporter": "python",
   "pygments_lexer": "ipython3",
   "version": "3.7.5"
  }
 },
 "nbformat": 4,
 "nbformat_minor": 2
}
